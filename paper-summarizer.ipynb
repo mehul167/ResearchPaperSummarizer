{
 "cells": [
  {
   "cell_type": "markdown",
   "metadata": {
    "execution": {
     "iopub.execute_input": "2024-11-01T09:40:20.767500Z",
     "iopub.status.busy": "2024-11-01T09:40:20.766663Z",
     "iopub.status.idle": "2024-11-01T09:40:20.771109Z",
     "shell.execute_reply": "2024-11-01T09:40:20.770080Z",
     "shell.execute_reply.started": "2024-11-01T09:40:20.767460Z"
    }
   },
   "source": [
    "# RESEARCH PAPER SUMMARIZER\n",
    "## MEHUL GARG \n",
    "## 220968332"
   ]
  },
  {
   "cell_type": "code",
   "execution_count": 10,
   "metadata": {
    "execution": {
     "iopub.execute_input": "2024-11-01T10:03:35.012753Z",
     "iopub.status.busy": "2024-11-01T10:03:35.011923Z",
     "iopub.status.idle": "2024-11-01T10:03:52.838632Z",
     "shell.execute_reply": "2024-11-01T10:03:52.837725Z",
     "shell.execute_reply.started": "2024-11-01T10:03:35.012709Z"
    }
   },
   "outputs": [
    {
     "name": "stdout",
     "output_type": "stream",
     "text": [
      "[nltk_data] Downloading package wordnet to /usr/share/nltk_data...\n",
      "[nltk_data]   Package wordnet is already up-to-date!\n"
     ]
    },
    {
     "data": {
      "text/plain": [
       "True"
      ]
     },
     "execution_count": 10,
     "metadata": {},
     "output_type": "execute_result"
    }
   ],
   "source": [
    "#import necessary libraries\n",
    "import os\n",
    "import random\n",
    "\n",
    "import numpy as np\n",
    "import pandas as pd\n",
    "import regex as re\n",
    "import unicodedata\n",
    "import contractions\n",
    "import nltk\n",
    "import matplotlib.pyplot as plt\n",
    "import seaborn as sns\n",
    "from tqdm import tqdm\n",
    "from datasets import Dataset\n",
    "import warnings\n",
    "warnings.filterwarnings(\"ignore\")\n",
    "\n",
    "import torch\n",
    "from transformers import AutoTokenizer, AutoModelForSeq2SeqLM\n",
    "from transformers import PegasusForConditionalGeneration, PegasusTokenizer, Trainer, TrainingArguments\n",
    "from nltk.translate.bleu_score import sentence_bleu, SmoothingFunction, corpus_bleu\n",
    "from rouge import Rouge\n",
    "from rouge_score import rouge_scorer\n",
    "from sklearn.model_selection import train_test_split\n",
    "from sklearn.metrics.pairwise import cosine_similarity\n",
    "\n",
    "import tensorflow as tf\n",
    "from tensorflow.keras.preprocessing.sequence import pad_sequences\n",
    "from tensorflow.keras.preprocessing.text import Tokenizer\n",
    "from tensorflow.keras.models import Model\n",
    "from tensorflow.keras.layers import Input, LSTM, Dense, Embedding\n",
    "from tensorflow.keras.optimizers import Adam\n",
    "from tensorflow.keras.callbacks import EarlyStopping\n",
    "\n",
    "# Download WordNet for NLTK\n",
    "nltk.download('wordnet')"
   ]
  },
  {
   "cell_type": "markdown",
   "metadata": {},
   "source": [
    "## Meta data of Dataset"
   ]
  },
  {
   "cell_type": "code",
   "execution_count": 4,
   "metadata": {
    "execution": {
     "iopub.execute_input": "2024-10-24T16:38:34.277459Z",
     "iopub.status.busy": "2024-10-24T16:38:34.276782Z",
     "iopub.status.idle": "2024-10-24T16:38:35.778718Z",
     "shell.execute_reply": "2024-10-24T16:38:35.777743Z",
     "shell.execute_reply.started": "2024-10-24T16:38:34.277423Z"
    }
   },
   "outputs": [
    {
     "data": {
      "text/html": [
       "<div>\n",
       "<style scoped>\n",
       "    .dataframe tbody tr th:only-of-type {\n",
       "        vertical-align: middle;\n",
       "    }\n",
       "\n",
       "    .dataframe tbody tr th {\n",
       "        vertical-align: top;\n",
       "    }\n",
       "\n",
       "    .dataframe thead th {\n",
       "        text-align: right;\n",
       "    }\n",
       "</style>\n",
       "<table border=\"1\" class=\"dataframe\">\n",
       "  <thead>\n",
       "    <tr style=\"text-align: right;\">\n",
       "      <th></th>\n",
       "      <th>article</th>\n",
       "      <th>abstract</th>\n",
       "    </tr>\n",
       "  </thead>\n",
       "  <tbody>\n",
       "    <tr>\n",
       "      <th>0</th>\n",
       "      <td>the interest in anchoring phenomena and phenom...</td>\n",
       "      <td>we study the phase behavior of a nematic liqui...</td>\n",
       "    </tr>\n",
       "    <tr>\n",
       "      <th>1</th>\n",
       "      <td>galaxy clusters , as the largest peaks in the ...</td>\n",
       "      <td>determining the scaling relations between gala...</td>\n",
       "    </tr>\n",
       "    <tr>\n",
       "      <th>2</th>\n",
       "      <td>quantum correlations between components of a s...</td>\n",
       "      <td>we show how to control spatial quantum correla...</td>\n",
       "    </tr>\n",
       "    <tr>\n",
       "      <th>3</th>\n",
       "      <td>methanol masers are often found in star - form...</td>\n",
       "      <td>class  i methanol masers are believed to be pr...</td>\n",
       "    </tr>\n",
       "    <tr>\n",
       "      <th>4</th>\n",
       "      <td>interdisciplinary research has recently gained...</td>\n",
       "      <td>nowadays , scientific challenges usually requi...</td>\n",
       "    </tr>\n",
       "    <tr>\n",
       "      <th>...</th>\n",
       "      <td>...</td>\n",
       "      <td>...</td>\n",
       "    </tr>\n",
       "    <tr>\n",
       "      <th>6431</th>\n",
       "      <td>in the gauge theory , only the gauge invariant...</td>\n",
       "      <td>we give a formal proof that the space - time a...</td>\n",
       "    </tr>\n",
       "    <tr>\n",
       "      <th>6432</th>\n",
       "      <td>the stability of thin films on substrates has ...</td>\n",
       "      <td>we consider here the effects of inertia on the...</td>\n",
       "    </tr>\n",
       "    <tr>\n",
       "      <th>6433</th>\n",
       "      <td>density - functional theory ( dft )  @xcite is...</td>\n",
       "      <td>we introduce an orbital - optimized double - h...</td>\n",
       "    </tr>\n",
       "    <tr>\n",
       "      <th>6434</th>\n",
       "      <td>laser - compton scattering is an attractive me...</td>\n",
       "      <td>we have been developing optical resonant cavit...</td>\n",
       "    </tr>\n",
       "    <tr>\n",
       "      <th>6435</th>\n",
       "      <td>in this paper we consider a simple example of ...</td>\n",
       "      <td>we have performed a numerical investigation of...</td>\n",
       "    </tr>\n",
       "  </tbody>\n",
       "</table>\n",
       "<p>6436 rows × 2 columns</p>\n",
       "</div>"
      ],
      "text/plain": [
       "                                                article  \\\n",
       "0     the interest in anchoring phenomena and phenom...   \n",
       "1     galaxy clusters , as the largest peaks in the ...   \n",
       "2     quantum correlations between components of a s...   \n",
       "3     methanol masers are often found in star - form...   \n",
       "4     interdisciplinary research has recently gained...   \n",
       "...                                                 ...   \n",
       "6431  in the gauge theory , only the gauge invariant...   \n",
       "6432  the stability of thin films on substrates has ...   \n",
       "6433  density - functional theory ( dft )  @xcite is...   \n",
       "6434  laser - compton scattering is an attractive me...   \n",
       "6435  in this paper we consider a simple example of ...   \n",
       "\n",
       "                                               abstract  \n",
       "0     we study the phase behavior of a nematic liqui...  \n",
       "1     determining the scaling relations between gala...  \n",
       "2     we show how to control spatial quantum correla...  \n",
       "3     class  i methanol masers are believed to be pr...  \n",
       "4     nowadays , scientific challenges usually requi...  \n",
       "...                                                 ...  \n",
       "6431  we give a formal proof that the space - time a...  \n",
       "6432  we consider here the effects of inertia on the...  \n",
       "6433  we introduce an orbital - optimized double - h...  \n",
       "6434  we have been developing optical resonant cavit...  \n",
       "6435  we have performed a numerical investigation of...  \n",
       "\n",
       "[6436 rows x 2 columns]"
      ]
     },
     "execution_count": 4,
     "metadata": {},
     "output_type": "execute_result"
    }
   ],
   "source": [
    "#upload the dataset\n",
    "df= pd.read_parquet(\"/kaggle/input/arxivdataset/validation-00000-of-00001.parquet\")\n",
    "df"
   ]
  },
  {
   "cell_type": "code",
   "execution_count": 5,
   "metadata": {
    "execution": {
     "iopub.execute_input": "2024-10-24T16:38:35.782317Z",
     "iopub.status.busy": "2024-10-24T16:38:35.781823Z",
     "iopub.status.idle": "2024-10-24T16:38:35.787886Z",
     "shell.execute_reply": "2024-10-24T16:38:35.786726Z",
     "shell.execute_reply.started": "2024-10-24T16:38:35.782278Z"
    }
   },
   "outputs": [
    {
     "name": "stdout",
     "output_type": "stream",
     "text": [
      "Dataset shape:\n",
      "(6436, 2)\n"
     ]
    }
   ],
   "source": [
    "# Display the number of rows and columns in the dataset\n",
    "print(\"Dataset shape:\")\n",
    "print(df.shape)"
   ]
  },
  {
   "cell_type": "code",
   "execution_count": 6,
   "metadata": {
    "execution": {
     "iopub.execute_input": "2024-10-24T16:38:35.789813Z",
     "iopub.status.busy": "2024-10-24T16:38:35.789375Z",
     "iopub.status.idle": "2024-10-24T16:38:35.821062Z",
     "shell.execute_reply": "2024-10-24T16:38:35.819722Z",
     "shell.execute_reply.started": "2024-10-24T16:38:35.789738Z"
    }
   },
   "outputs": [
    {
     "name": "stdout",
     "output_type": "stream",
     "text": [
      "Dataset Info:\n",
      "<class 'pandas.core.frame.DataFrame'>\n",
      "RangeIndex: 6436 entries, 0 to 6435\n",
      "Data columns (total 2 columns):\n",
      " #   Column    Non-Null Count  Dtype \n",
      "---  ------    --------------  ----- \n",
      " 0   article   6436 non-null   object\n",
      " 1   abstract  6436 non-null   object\n",
      "dtypes: object(2)\n",
      "memory usage: 100.7+ KB\n"
     ]
    }
   ],
   "source": [
    "# Check the structure of key fields: Article and Abstract\n",
    "print(\"Dataset Info:\")\n",
    "df.info()"
   ]
  },
  {
   "cell_type": "code",
   "execution_count": 7,
   "metadata": {
    "execution": {
     "iopub.execute_input": "2024-10-24T16:38:35.823714Z",
     "iopub.status.busy": "2024-10-24T16:38:35.823215Z",
     "iopub.status.idle": "2024-10-24T16:38:35.843231Z",
     "shell.execute_reply": "2024-10-24T16:38:35.842040Z",
     "shell.execute_reply.started": "2024-10-24T16:38:35.823659Z"
    }
   },
   "outputs": [
    {
     "name": "stdout",
     "output_type": "stream",
     "text": [
      "Sample Article and Abstract pair:\n"
     ]
    },
    {
     "data": {
      "text/html": [
       "<div>\n",
       "<style scoped>\n",
       "    .dataframe tbody tr th:only-of-type {\n",
       "        vertical-align: middle;\n",
       "    }\n",
       "\n",
       "    .dataframe tbody tr th {\n",
       "        vertical-align: top;\n",
       "    }\n",
       "\n",
       "    .dataframe thead th {\n",
       "        text-align: right;\n",
       "    }\n",
       "</style>\n",
       "<table border=\"1\" class=\"dataframe\">\n",
       "  <thead>\n",
       "    <tr style=\"text-align: right;\">\n",
       "      <th></th>\n",
       "      <th>article</th>\n",
       "      <th>abstract</th>\n",
       "    </tr>\n",
       "  </thead>\n",
       "  <tbody>\n",
       "    <tr>\n",
       "      <th>2299</th>\n",
       "      <td>theoretical investigations of the phase diagra...</td>\n",
       "      <td>studies of qcd lead to the hypothesis of a cri...</td>\n",
       "    </tr>\n",
       "    <tr>\n",
       "      <th>5509</th>\n",
       "      <td>planets form and grow in circumstellar disks ....</td>\n",
       "      <td>i calculate the spectral energy distributions ...</td>\n",
       "    </tr>\n",
       "    <tr>\n",
       "      <th>5000</th>\n",
       "      <td>national metrology institutes reproduce the un...</td>\n",
       "      <td>the modelling of electrical connections of sin...</td>\n",
       "    </tr>\n",
       "    <tr>\n",
       "      <th>5010</th>\n",
       "      <td>the question of measuring of the spatial non -...</td>\n",
       "      <td>we obtain positronium hyperfine splitting owin...</td>\n",
       "    </tr>\n",
       "    <tr>\n",
       "      <th>1901</th>\n",
       "      <td>with the advent of wireless technology in hand...</td>\n",
       "      <td>we develop analytical models for estimating th...</td>\n",
       "    </tr>\n",
       "  </tbody>\n",
       "</table>\n",
       "</div>"
      ],
      "text/plain": [
       "                                                article  \\\n",
       "2299  theoretical investigations of the phase diagra...   \n",
       "5509  planets form and grow in circumstellar disks ....   \n",
       "5000  national metrology institutes reproduce the un...   \n",
       "5010  the question of measuring of the spatial non -...   \n",
       "1901  with the advent of wireless technology in hand...   \n",
       "\n",
       "                                               abstract  \n",
       "2299  studies of qcd lead to the hypothesis of a cri...  \n",
       "5509  i calculate the spectral energy distributions ...  \n",
       "5000  the modelling of electrical connections of sin...  \n",
       "5010  we obtain positronium hyperfine splitting owin...  \n",
       "1901  we develop analytical models for estimating th...  "
      ]
     },
     "execution_count": 7,
     "metadata": {},
     "output_type": "execute_result"
    }
   ],
   "source": [
    "# Randomly select 5 pairs of Abstract and Title\n",
    "print(\"Sample Article and Abstract pair:\")\n",
    "df[['article', 'abstract']].sample(5) "
   ]
  },
  {
   "cell_type": "markdown",
   "metadata": {},
   "source": [
    "## Exploratory Analysis "
   ]
  },
  {
   "cell_type": "code",
   "execution_count": 8,
   "metadata": {
    "execution": {
     "iopub.execute_input": "2024-10-24T16:38:35.845131Z",
     "iopub.status.busy": "2024-10-24T16:38:35.844716Z",
     "iopub.status.idle": "2024-10-24T16:38:38.229180Z",
     "shell.execute_reply": "2024-10-24T16:38:38.228287Z",
     "shell.execute_reply.started": "2024-10-24T16:38:35.845090Z"
    }
   },
   "outputs": [],
   "source": [
    "# Analyze the length of articles in terms of words and characters\n",
    "df['article_word_count'] = df['article'].apply(lambda x: len(x.split()))\n",
    "df['article_char_count'] = df['article'].apply(len)\n",
    "\n",
    "# Analyze the length of abstracts in terms of words and characters\n",
    "df['abstract_word_count'] = df['abstract'].apply(lambda x: len(x.split()))\n",
    "df['abstract_char_count'] = df['abstract'].apply(len)"
   ]
  },
  {
   "cell_type": "code",
   "execution_count": 9,
   "metadata": {
    "execution": {
     "iopub.execute_input": "2024-10-24T16:38:38.231293Z",
     "iopub.status.busy": "2024-10-24T16:38:38.230537Z",
     "iopub.status.idle": "2024-10-24T16:38:38.262965Z",
     "shell.execute_reply": "2024-10-24T16:38:38.261828Z",
     "shell.execute_reply.started": "2024-10-24T16:38:38.231242Z"
    }
   },
   "outputs": [
    {
     "name": "stdout",
     "output_type": "stream",
     "text": [
      "Summary Statistics for Articles and Abstract lengths:\n"
     ]
    },
    {
     "data": {
      "text/html": [
       "<div>\n",
       "<style scoped>\n",
       "    .dataframe tbody tr th:only-of-type {\n",
       "        vertical-align: middle;\n",
       "    }\n",
       "\n",
       "    .dataframe tbody tr th {\n",
       "        vertical-align: top;\n",
       "    }\n",
       "\n",
       "    .dataframe thead th {\n",
       "        text-align: right;\n",
       "    }\n",
       "</style>\n",
       "<table border=\"1\" class=\"dataframe\">\n",
       "  <thead>\n",
       "    <tr style=\"text-align: right;\">\n",
       "      <th></th>\n",
       "      <th>article_word_count</th>\n",
       "      <th>article_char_count</th>\n",
       "      <th>abstract_word_count</th>\n",
       "      <th>abstract_char_count</th>\n",
       "    </tr>\n",
       "  </thead>\n",
       "  <tbody>\n",
       "    <tr>\n",
       "      <th>count</th>\n",
       "      <td>6436.000000</td>\n",
       "      <td>6436.000000</td>\n",
       "      <td>6436.000000</td>\n",
       "      <td>6436.000000</td>\n",
       "    </tr>\n",
       "    <tr>\n",
       "      <th>mean</th>\n",
       "      <td>5894.428216</td>\n",
       "      <td>32621.932101</td>\n",
       "      <td>161.539932</td>\n",
       "      <td>958.801896</td>\n",
       "    </tr>\n",
       "    <tr>\n",
       "      <th>std</th>\n",
       "      <td>3849.461092</td>\n",
       "      <td>21319.796747</td>\n",
       "      <td>58.453242</td>\n",
       "      <td>341.219978</td>\n",
       "    </tr>\n",
       "    <tr>\n",
       "      <th>min</th>\n",
       "      <td>195.000000</td>\n",
       "      <td>1094.000000</td>\n",
       "      <td>44.000000</td>\n",
       "      <td>246.000000</td>\n",
       "    </tr>\n",
       "    <tr>\n",
       "      <th>25%</th>\n",
       "      <td>3376.750000</td>\n",
       "      <td>18609.750000</td>\n",
       "      <td>116.000000</td>\n",
       "      <td>695.000000</td>\n",
       "    </tr>\n",
       "    <tr>\n",
       "      <th>50%</th>\n",
       "      <td>5029.500000</td>\n",
       "      <td>27799.000000</td>\n",
       "      <td>158.000000</td>\n",
       "      <td>936.000000</td>\n",
       "    </tr>\n",
       "    <tr>\n",
       "      <th>75%</th>\n",
       "      <td>7403.250000</td>\n",
       "      <td>41207.000000</td>\n",
       "      <td>205.000000</td>\n",
       "      <td>1210.250000</td>\n",
       "    </tr>\n",
       "    <tr>\n",
       "      <th>max</th>\n",
       "      <td>45108.000000</td>\n",
       "      <td>240296.000000</td>\n",
       "      <td>290.000000</td>\n",
       "      <td>1912.000000</td>\n",
       "    </tr>\n",
       "  </tbody>\n",
       "</table>\n",
       "</div>"
      ],
      "text/plain": [
       "       article_word_count  article_char_count  abstract_word_count  \\\n",
       "count         6436.000000         6436.000000          6436.000000   \n",
       "mean          5894.428216        32621.932101           161.539932   \n",
       "std           3849.461092        21319.796747            58.453242   \n",
       "min            195.000000         1094.000000            44.000000   \n",
       "25%           3376.750000        18609.750000           116.000000   \n",
       "50%           5029.500000        27799.000000           158.000000   \n",
       "75%           7403.250000        41207.000000           205.000000   \n",
       "max          45108.000000       240296.000000           290.000000   \n",
       "\n",
       "       abstract_char_count  \n",
       "count          6436.000000  \n",
       "mean            958.801896  \n",
       "std             341.219978  \n",
       "min             246.000000  \n",
       "25%             695.000000  \n",
       "50%             936.000000  \n",
       "75%            1210.250000  \n",
       "max            1912.000000  "
      ]
     },
     "execution_count": 9,
     "metadata": {},
     "output_type": "execute_result"
    }
   ],
   "source": [
    "# Display summary statistics\n",
    "print(\"Summary Statistics for Articles and Abstract lengths:\")\n",
    "df[['article_word_count', 'article_char_count', 'abstract_word_count', 'abstract_char_count']].describe()"
   ]
  },
  {
   "cell_type": "code",
   "execution_count": 10,
   "metadata": {
    "execution": {
     "iopub.execute_input": "2024-10-24T16:38:38.265059Z",
     "iopub.status.busy": "2024-10-24T16:38:38.264553Z",
     "iopub.status.idle": "2024-10-24T16:38:38.276096Z",
     "shell.execute_reply": "2024-10-24T16:38:38.274824Z",
     "shell.execute_reply.started": "2024-10-24T16:38:38.264982Z"
    }
   },
   "outputs": [
    {
     "name": "stdout",
     "output_type": "stream",
     "text": [
      "Missing Values in Abstract and Title fields:\n",
      "article     0\n",
      "abstract    0\n",
      "dtype: int64\n"
     ]
    }
   ],
   "source": [
    "# Check for missing or null values in Article and Abstract fields\n",
    "print(\"Missing Values in Abstract and Title fields:\")\n",
    "print(df[['article', 'abstract']].isnull().sum())"
   ]
  },
  {
   "cell_type": "code",
   "execution_count": 11,
   "metadata": {
    "execution": {
     "iopub.execute_input": "2024-10-24T16:38:38.280369Z",
     "iopub.status.busy": "2024-10-24T16:38:38.280032Z",
     "iopub.status.idle": "2024-10-24T16:38:38.290157Z",
     "shell.execute_reply": "2024-10-24T16:38:38.289081Z",
     "shell.execute_reply.started": "2024-10-24T16:38:38.280333Z"
    }
   },
   "outputs": [
    {
     "name": "stdout",
     "output_type": "stream",
     "text": [
      "Number of articles with fewer than 500 words: 19\n",
      "Number of abstracts with fewer than 50 words: 36\n"
     ]
    }
   ],
   "source": [
    "# Check for extremely short abstracts or titles\n",
    "min_article_length = 500  # Set minimum acceptable length for abstracts\n",
    "min_abstract_length = 50  # Set minimum acceptable length for titles \n",
    "\n",
    "short_articles= df[df['article_word_count'] < min_article_length]\n",
    "short_abstracts = df[df['abstract_word_count'] < min_abstract_length]\n",
    "\n",
    "print(f\"Number of articles with fewer than {min_article_length} words: {len(short_articles)}\")\n",
    "print(f\"Number of abstracts with fewer than {min_abstract_length} words: {len(short_abstracts)}\")"
   ]
  },
  {
   "cell_type": "code",
   "execution_count": 12,
   "metadata": {
    "execution": {
     "iopub.execute_input": "2024-10-24T16:38:38.292070Z",
     "iopub.status.busy": "2024-10-24T16:38:38.291547Z",
     "iopub.status.idle": "2024-10-24T16:38:38.307734Z",
     "shell.execute_reply": "2024-10-24T16:38:38.306473Z",
     "shell.execute_reply.started": "2024-10-24T16:38:38.291974Z"
    }
   },
   "outputs": [
    {
     "name": "stdout",
     "output_type": "stream",
     "text": [
      "abstract_word_category\n",
      "0-50         36\n",
      "50-100     1017\n",
      "100-150    1865\n",
      "150-200    1748\n",
      "200-250    1171\n",
      "250-300     599\n",
      "Name: count, dtype: int64\n"
     ]
    }
   ],
   "source": [
    "bins = [0, 50, 100, 150, 200, 250, 300]\n",
    "labels = ['0-50', '50-100', '100-150', '150-200', '200-250', '250-300']\n",
    "\n",
    "# Create a new column for the word count category\n",
    "df['abstract_word_category'] = pd.cut(df['abstract_word_count'], bins=bins, labels=labels, right=False)\n",
    "\n",
    "# Count the number of abstracts in each category\n",
    "word_count_summary = df['abstract_word_category'].value_counts().sort_index()\n",
    "\n",
    "print(word_count_summary)"
   ]
  },
  {
   "cell_type": "code",
   "execution_count": 13,
   "metadata": {
    "execution": {
     "iopub.execute_input": "2024-10-24T16:38:38.309365Z",
     "iopub.status.busy": "2024-10-24T16:38:38.308979Z",
     "iopub.status.idle": "2024-10-24T16:38:38.792337Z",
     "shell.execute_reply": "2024-10-24T16:38:38.791223Z",
     "shell.execute_reply.started": "2024-10-24T16:38:38.309326Z"
    }
   },
   "outputs": [
    {
     "name": "stdout",
     "output_type": "stream",
     "text": [
      "Duplicate based on Abstract-Title pairs: 0\n"
     ]
    }
   ],
   "source": [
    "# Check for duplicate records based on PaperId or identical Abstract-Title pairs\n",
    "print(\"Duplicate based on Abstract-Title pairs:\", df.duplicated(subset=['article', 'abstract']).sum())"
   ]
  },
  {
   "cell_type": "code",
   "execution_count": 14,
   "metadata": {
    "execution": {
     "iopub.execute_input": "2024-10-24T16:38:38.794360Z",
     "iopub.status.busy": "2024-10-24T16:38:38.793957Z",
     "iopub.status.idle": "2024-10-24T16:38:39.267149Z",
     "shell.execute_reply": "2024-10-24T16:38:39.266240Z",
     "shell.execute_reply.started": "2024-10-24T16:38:38.794320Z"
    }
   },
   "outputs": [],
   "source": [
    "# Remove duplicates if necessary\n",
    "df = df.drop_duplicates(subset=['article', 'abstract'])  # Remove based on Abstract-Title pairs"
   ]
  },
  {
   "cell_type": "code",
   "execution_count": 15,
   "metadata": {
    "execution": {
     "iopub.execute_input": "2024-10-24T16:38:39.268620Z",
     "iopub.status.busy": "2024-10-24T16:38:39.268293Z",
     "iopub.status.idle": "2024-10-24T16:38:40.281057Z",
     "shell.execute_reply": "2024-10-24T16:38:40.279880Z",
     "shell.execute_reply.started": "2024-10-24T16:38:39.268586Z"
    }
   },
   "outputs": [
    {
     "data": {
      "image/png": "[encoded data removed]",
      "text/plain": [
       "<Figure size 1400x600 with 2 Axes>"
      ]
     },
     "metadata": {},
     "output_type": "display_data"
    }
   ],
   "source": [
    "# Plot distribution of Article and Abstract lengths (word count)\n",
    "plt.figure(figsize=(14, 6))\n",
    "# Abstract word count distribution\n",
    "plt.subplot(1, 2, 1)\n",
    "sns.histplot(df['article_word_count'], bins=50, kde=True, color='blue',edgecolor='white')\n",
    "plt.grid(True)\n",
    "plt.title('Distribution of Article Word Count')\n",
    "plt.xlabel('Word Count')\n",
    "plt.ylabel('Frequency')\n",
    "\n",
    "# Title word count distribution\n",
    "plt.subplot(1, 2, 2)\n",
    "sns.histplot(df['abstract_word_count'], bins=20, kde=True, color='green',edgecolor='white')\n",
    "plt.grid(True)\n",
    "plt.title('Distribution of Abstract Word Count')\n",
    "plt.xlabel('Word Count')\n",
    "plt.ylabel('Frequency')\n",
    "\n",
    "plt.tight_layout()\n",
    "plt.show()"
   ]
  },
  {
   "cell_type": "code",
   "execution_count": 16,
   "metadata": {
    "execution": {
     "iopub.execute_input": "2024-10-24T16:38:40.282955Z",
     "iopub.status.busy": "2024-10-24T16:38:40.282549Z",
     "iopub.status.idle": "2024-10-24T16:38:40.687320Z",
     "shell.execute_reply": "2024-10-24T16:38:40.686194Z",
     "shell.execute_reply.started": "2024-10-24T16:38:40.282911Z"
    }
   },
   "outputs": [
    {
     "data": {
      "image/png": "[encoded data removed]",
      "text/plain": [
       "<Figure size 1200x500 with 2 Axes>"
      ]
     },
     "metadata": {},
     "output_type": "display_data"
    }
   ],
   "source": [
    "# Boxplot to detect outliers in Abstract and Title lengths\n",
    "plt.figure(figsize=(12, 5))\n",
    "\n",
    "# Abstract length boxplot\n",
    "plt.subplot(1, 2, 1)\n",
    "sns.boxplot(df['article_word_count'], color='blue')\n",
    "plt.title('Boxplot of Article Word Count')\n",
    "\n",
    "# Title length boxplot\n",
    "plt.subplot(1, 2, 2)\n",
    "sns.boxplot(df['abstract_word_count'], color='green')\n",
    "plt.title('Boxplot of Abstract Word Count')\n",
    "\n",
    "plt.tight_layout()\n",
    "plt.show()"
   ]
  },
  {
   "cell_type": "markdown",
   "metadata": {},
   "source": [
    "# Preprocessing pipeline specific to data "
   ]
  },
  {
   "cell_type": "code",
   "execution_count": 17,
   "metadata": {
    "execution": {
     "iopub.execute_input": "2024-10-24T16:38:40.688930Z",
     "iopub.status.busy": "2024-10-24T16:38:40.688595Z",
     "iopub.status.idle": "2024-10-24T16:38:40.695640Z",
     "shell.execute_reply": "2024-10-24T16:38:40.694483Z",
     "shell.execute_reply.started": "2024-10-24T16:38:40.688894Z"
    }
   },
   "outputs": [],
   "source": [
    "# Cleans and preprocesses the input text for further analysis.\n",
    "def clean_text(text):\n",
    "    text = text.lower()\n",
    "    text = unicodedata.normalize('NFKD', text).encode('ascii', 'ignore').decode('utf-8', 'ignore')\n",
    "    text = re.sub(r'\\s+', ' ', text)\n",
    "    text = re.sub(r'[^\\w\\s]', '', text)\n",
    "    text = contractions.fix(text)\n",
    "    text = re.sub(r'_+', '', text)\n",
    "    return text.strip()"
   ]
  },
  {
   "cell_type": "code",
   "execution_count": 18,
   "metadata": {
    "execution": {
     "iopub.execute_input": "2024-10-24T16:38:40.697911Z",
     "iopub.status.busy": "2024-10-24T16:38:40.696943Z",
     "iopub.status.idle": "2024-10-24T16:39:38.161555Z",
     "shell.execute_reply": "2024-10-24T16:39:38.160498Z",
     "shell.execute_reply.started": "2024-10-24T16:38:40.697874Z"
    }
   },
   "outputs": [],
   "source": [
    "df['clean_article'] = df['article'].apply(clean_text)\n",
    "df['clean_abstract'] = df['abstract'].apply(clean_text)"
   ]
  },
  {
   "cell_type": "code",
   "execution_count": 19,
   "metadata": {
    "execution": {
     "iopub.execute_input": "2024-10-24T16:39:38.163427Z",
     "iopub.status.busy": "2024-10-24T16:39:38.163055Z",
     "iopub.status.idle": "2024-10-24T16:39:38.250015Z",
     "shell.execute_reply": "2024-10-24T16:39:38.248962Z",
     "shell.execute_reply.started": "2024-10-24T16:39:38.163382Z"
    }
   },
   "outputs": [
    {
     "name": "stdout",
     "output_type": "stream",
     "text": [
      "abstract_word_category\n",
      "0-50         93\n",
      "50-100     1393\n",
      "100-150    2205\n",
      "150-200    1700\n",
      "200-250     996\n",
      "250-300      49\n",
      "Name: count, dtype: int64\n"
     ]
    }
   ],
   "source": [
    "# Function to count words in an abstract\n",
    "def word_count(text):\n",
    "    return len(text.split()) if isinstance(text, str) else 0\n",
    "\n",
    "# Apply the word count function to the 'abstract' column\n",
    "df['abstract_word_count'] = df['clean_abstract'].apply(word_count)\n",
    "\n",
    "# Define the bins\n",
    "bins = [0, 50, 100, 150, 200, 250, 300]\n",
    "labels = ['0-50', '50-100', '100-150', '150-200', '200-250', '250-300']\n",
    "\n",
    "# Create a new column for the word count category\n",
    "df['abstract_word_category'] = pd.cut(df['abstract_word_count'], bins=bins, labels=labels, right=False)\n",
    "\n",
    "# Count the number of abstracts in each category\n",
    "word_count_summary = df['abstract_word_category'].value_counts().sort_index()\n",
    "\n",
    "print(word_count_summary)\n"
   ]
  },
  {
   "cell_type": "markdown",
   "metadata": {},
   "source": [
    "# Pre-trained models"
   ]
  },
  {
   "cell_type": "code",
   "execution_count": 20,
   "metadata": {
    "execution": {
     "iopub.execute_input": "2024-10-24T16:39:38.251809Z",
     "iopub.status.busy": "2024-10-24T16:39:38.251290Z",
     "iopub.status.idle": "2024-10-24T16:39:38.266585Z",
     "shell.execute_reply": "2024-10-24T16:39:38.265506Z",
     "shell.execute_reply.started": "2024-10-24T16:39:38.251611Z"
    }
   },
   "outputs": [],
   "source": [
    "def evaluate_model(common_model_name, actual_model_name, df, batch_size=5):\n",
    "    # Create a smoothing function\n",
    "    smoothing_function = SmoothingFunction()\n",
    "\n",
    "    # Load the model and tokenizer\n",
    "    tokenizer = AutoTokenizer.from_pretrained(actual_model_name)\n",
    "    model = AutoModelForSeq2SeqLM.from_pretrained(actual_model_name).to('cuda')\n",
    "    model.gradient_checkpointing_enable()  # Enable gradient checkpointing\n",
    "\n",
    "    # Filter for abstracts in the 250-300 word category\n",
    "    filtered_df = df[df['abstract_word_category'] == '200-250']\n",
    "    sampled_rows = filtered_df.sample(n=996, random_state=42)\n",
    "\n",
    "    # Initialize cumulative scores\n",
    "    total_bleu = 0\n",
    "    total_rouge_1 = 0\n",
    "    total_rouge_2 = 0\n",
    "    total_rouge_l = 0\n",
    "    num_summaries = 0\n",
    "    rouge = Rouge()\n",
    "\n",
    "    for i in tqdm(range(0, len(sampled_rows), batch_size)):\n",
    "        texts = sampled_rows[\"article\"].iloc[i:i + batch_size].tolist()\n",
    "        actual_summaries = sampled_rows[\"abstract\"].iloc[i:i + batch_size].tolist()\n",
    "\n",
    "        inputs = tokenizer(texts, return_tensors=\"pt\", max_length=512, truncation=True, padding=True).to('cuda')\n",
    "\n",
    "        with torch.amp.autocast(device_type='cuda'):\n",
    "            summary_ids = model.generate(inputs['input_ids'], max_length=275, min_length=175, length_penalty=1.0, num_beams=2, early_stopping=True)\n",
    "\n",
    "        summaries = [tokenizer.decode(sid, skip_special_tokens=True) for sid in summary_ids]\n",
    "        torch.cuda.empty_cache()  # Clear cache after processing\n",
    "\n",
    "        for actual_summary, summary in zip(actual_summaries, summaries):\n",
    "            reference = [actual_summary.split()]\n",
    "            candidate = summary.split()\n",
    "            bleu_score = sentence_bleu(reference, candidate, smoothing_function=smoothing_function.method1)\n",
    "\n",
    "            scores = rouge.get_scores(summary, actual_summary)[0]\n",
    "            \n",
    "            # Accumulate scores\n",
    "            total_bleu += bleu_score\n",
    "            total_rouge_1 += scores['rouge-1']['f']\n",
    "            total_rouge_2 += scores['rouge-2']['f']\n",
    "            total_rouge_l += scores['rouge-l']['f']\n",
    "            num_summaries += 1\n",
    "\n",
    "    # Calculate final scores\n",
    "    final_bleu = total_bleu / num_summaries\n",
    "    final_rouge_1 = total_rouge_1 / num_summaries\n",
    "    final_rouge_2 = total_rouge_2 / num_summaries\n",
    "    final_rouge_l = total_rouge_l / num_summaries\n",
    "\n",
    "    # Create a Series to hold the final scores\n",
    "    scores_series = pd.Series({\n",
    "        'Model': common_model_name,\n",
    "        'Final BLEU Score': final_bleu,\n",
    "        'Final ROUGE-1': final_rouge_1,\n",
    "        'Final ROUGE-2': final_rouge_2,\n",
    "        'Final ROUGE-L': final_rouge_l,\n",
    "    })\n",
    "\n",
    "    return scores_series"
   ]
  },
  {
   "cell_type": "code",
   "execution_count": 21,
   "metadata": {
    "execution": {
     "iopub.execute_input": "2024-10-24T16:39:38.268392Z",
     "iopub.status.busy": "2024-10-24T16:39:38.267984Z",
     "iopub.status.idle": "2024-10-24T17:50:20.669146Z",
     "shell.execute_reply": "2024-10-24T17:50:20.668017Z",
     "shell.execute_reply.started": "2024-10-24T16:39:38.268346Z"
    }
   },
   "outputs": [
    {
     "data": {
      "application/vnd.jupyter.widget-view+json": {
       "model_id": "9dba7e03bced4a38a7f9cabdf02f624a",
       "version_major": 2,
       "version_minor": 0
      },
      "text/plain": [
       "tokenizer_config.json:   0%|          | 0.00/389 [00:00<?, ?B/s]"
      ]
     },
     "metadata": {},
     "output_type": "display_data"
    },
    {
     "data": {
      "application/vnd.jupyter.widget-view+json": {
       "model_id": "9230d40c5d7045568c3a803c3f014b71",
       "version_major": 2,
       "version_minor": 0
      },
      "text/plain": [
       "vocab.json:   0%|          | 0.00/798k [00:00<?, ?B/s]"
      ]
     },
     "metadata": {},
     "output_type": "display_data"
    },
    {
     "data": {
      "application/vnd.jupyter.widget-view+json": {
       "model_id": "9ad62ad6039e4a40ae2cb009077d4b37",
       "version_major": 2,
       "version_minor": 0
      },
      "text/plain": [
       "merges.txt:   0%|          | 0.00/456k [00:00<?, ?B/s]"
      ]
     },
     "metadata": {},
     "output_type": "display_data"
    },
    {
     "data": {
      "application/vnd.jupyter.widget-view+json": {
       "model_id": "6f342c764867426faadd55ea54b81c86",
       "version_major": 2,
       "version_minor": 0
      },
      "text/plain": [
       "tokenizer.json:   0%|          | 0.00/2.11M [00:00<?, ?B/s]"
      ]
     },
     "metadata": {},
     "output_type": "display_data"
    },
    {
     "data": {
      "application/vnd.jupyter.widget-view+json": {
       "model_id": "30edbf6175bc4fb7a3de1751a80addf3",
       "version_major": 2,
       "version_minor": 0
      },
      "text/plain": [
       "special_tokens_map.json:   0%|          | 0.00/280 [00:00<?, ?B/s]"
      ]
     },
     "metadata": {},
     "output_type": "display_data"
    },
    {
     "data": {
      "application/vnd.jupyter.widget-view+json": {
       "model_id": "a1897efbbb0045478e8089cc6d58c50b",
       "version_major": 2,
       "version_minor": 0
      },
      "text/plain": [
       "config.json:   0%|          | 0.00/1.66k [00:00<?, ?B/s]"
      ]
     },
     "metadata": {},
     "output_type": "display_data"
    },
    {
     "data": {
      "application/vnd.jupyter.widget-view+json": {
       "model_id": "41e75de6d87e462e96e69589bfbb5f13",
       "version_major": 2,
       "version_minor": 0
      },
      "text/plain": [
       "model.safetensors:   0%|          | 0.00/1.63G [00:00<?, ?B/s]"
      ]
     },
     "metadata": {},
     "output_type": "display_data"
    },
    {
     "name": "stderr",
     "output_type": "stream",
     "text": [
      "100%|██████████| 200/200 [17:44<00:00,  5.32s/it]\n"
     ]
    },
    {
     "data": {
      "application/vnd.jupyter.widget-view+json": {
       "model_id": "9a1b6d3652ba438b82a99fa746f9d81d",
       "version_major": 2,
       "version_minor": 0
      },
      "text/plain": [
       "tokenizer_config.json:   0%|          | 0.00/1.21k [00:00<?, ?B/s]"
      ]
     },
     "metadata": {},
     "output_type": "display_data"
    },
    {
     "data": {
      "application/vnd.jupyter.widget-view+json": {
       "model_id": "ab0f730d59184878896f20c4f62cd39b",
       "version_major": 2,
       "version_minor": 0
      },
      "text/plain": [
       "vocab.json:   0%|          | 0.00/798k [00:00<?, ?B/s]"
      ]
     },
     "metadata": {},
     "output_type": "display_data"
    },
    {
     "data": {
      "application/vnd.jupyter.widget-view+json": {
       "model_id": "8c925799f2d442c4bf3857add1e45c4e",
       "version_major": 2,
       "version_minor": 0
      },
      "text/plain": [
       "merges.txt:   0%|          | 0.00/456k [00:00<?, ?B/s]"
      ]
     },
     "metadata": {},
     "output_type": "display_data"
    },
    {
     "data": {
      "application/vnd.jupyter.widget-view+json": {
       "model_id": "0224508a7a964db1bba43ac891a2f7dc",
       "version_major": 2,
       "version_minor": 0
      },
      "text/plain": [
       "tokenizer.json:   0%|          | 0.00/2.11M [00:00<?, ?B/s]"
      ]
     },
     "metadata": {},
     "output_type": "display_data"
    },
    {
     "data": {
      "application/vnd.jupyter.widget-view+json": {
       "model_id": "55c79d2658f54838ba01e389c5be62d3",
       "version_major": 2,
       "version_minor": 0
      },
      "text/plain": [
       "special_tokens_map.json:   0%|          | 0.00/957 [00:00<?, ?B/s]"
      ]
     },
     "metadata": {},
     "output_type": "display_data"
    },
    {
     "data": {
      "application/vnd.jupyter.widget-view+json": {
       "model_id": "f3efd0b23f2e46f9b7bd5a586b093017",
       "version_major": 2,
       "version_minor": 0
      },
      "text/plain": [
       "config.json:   0%|          | 0.00/1.88k [00:00<?, ?B/s]"
      ]
     },
     "metadata": {},
     "output_type": "display_data"
    },
    {
     "data": {
      "application/vnd.jupyter.widget-view+json": {
       "model_id": "6df46f81c56743e29f363cae392f9e39",
       "version_major": 2,
       "version_minor": 0
      },
      "text/plain": [
       "model.safetensors:   0%|          | 0.00/1.22G [00:00<?, ?B/s]"
      ]
     },
     "metadata": {},
     "output_type": "display_data"
    },
    {
     "data": {
      "application/vnd.jupyter.widget-view+json": {
       "model_id": "a677c431d099467ab44cbd1ec47552ac",
       "version_major": 2,
       "version_minor": 0
      },
      "text/plain": [
       "generation_config.json:   0%|          | 0.00/328 [00:00<?, ?B/s]"
      ]
     },
     "metadata": {},
     "output_type": "display_data"
    },
    {
     "name": "stderr",
     "output_type": "stream",
     "text": [
      "100%|██████████| 200/200 [09:21<00:00,  2.81s/it]\n"
     ]
    },
    {
     "data": {
      "application/vnd.jupyter.widget-view+json": {
       "model_id": "226e1665fabc4cd7bbffb8f6a77b8586",
       "version_major": 2,
       "version_minor": 0
      },
      "text/plain": [
       "tokenizer_config.json:   0%|          | 0.00/88.0 [00:00<?, ?B/s]"
      ]
     },
     "metadata": {},
     "output_type": "display_data"
    },
    {
     "data": {
      "application/vnd.jupyter.widget-view+json": {
       "model_id": "b7108f21d18d44b284fc02c4c9c3abd5",
       "version_major": 2,
       "version_minor": 0
      },
      "text/plain": [
       "config.json:   0%|          | 0.00/3.09k [00:00<?, ?B/s]"
      ]
     },
     "metadata": {},
     "output_type": "display_data"
    },
    {
     "data": {
      "application/vnd.jupyter.widget-view+json": {
       "model_id": "ce05475c1dc649418ff40c9edc8b29f7",
       "version_major": 2,
       "version_minor": 0
      },
      "text/plain": [
       "spiece.model:   0%|          | 0.00/1.91M [00:00<?, ?B/s]"
      ]
     },
     "metadata": {},
     "output_type": "display_data"
    },
    {
     "data": {
      "application/vnd.jupyter.widget-view+json": {
       "model_id": "d7b43c27ffa14c8993d9e086e3a4220e",
       "version_major": 2,
       "version_minor": 0
      },
      "text/plain": [
       "special_tokens_map.json:   0%|          | 0.00/65.0 [00:00<?, ?B/s]"
      ]
     },
     "metadata": {},
     "output_type": "display_data"
    },
    {
     "data": {
      "application/vnd.jupyter.widget-view+json": {
       "model_id": "9bdf01e2c3b24c759b5b0b5be2bc7577",
       "version_major": 2,
       "version_minor": 0
      },
      "text/plain": [
       "pytorch_model.bin:   0%|          | 0.00/2.28G [00:00<?, ?B/s]"
      ]
     },
     "metadata": {},
     "output_type": "display_data"
    },
    {
     "name": "stderr",
     "output_type": "stream",
     "text": [
      "Some weights of PegasusForConditionalGeneration were not initialized from the model checkpoint at google/pegasus-large and are newly initialized: ['model.decoder.embed_positions.weight', 'model.encoder.embed_positions.weight']\n",
      "You should probably TRAIN this model on a down-stream task to be able to use it for predictions and inference.\n"
     ]
    },
    {
     "data": {
      "application/vnd.jupyter.widget-view+json": {
       "model_id": "6f6f145297c0406fbc1d944abf1469b9",
       "version_major": 2,
       "version_minor": 0
      },
      "text/plain": [
       "generation_config.json:   0%|          | 0.00/260 [00:00<?, ?B/s]"
      ]
     },
     "metadata": {},
     "output_type": "display_data"
    },
    {
     "name": "stderr",
     "output_type": "stream",
     "text": [
      "100%|██████████| 200/200 [21:50<00:00,  6.55s/it]\n"
     ]
    },
    {
     "data": {
      "application/vnd.jupyter.widget-view+json": {
       "model_id": "bea1d05784af493d9b426f2fadd9555d",
       "version_major": 2,
       "version_minor": 0
      },
      "text/plain": [
       "tokenizer_config.json:   0%|          | 0.00/26.0 [00:00<?, ?B/s]"
      ]
     },
     "metadata": {},
     "output_type": "display_data"
    },
    {
     "data": {
      "application/vnd.jupyter.widget-view+json": {
       "model_id": "e7c1cede65b24a24b7e71ca78b25b336",
       "version_major": 2,
       "version_minor": 0
      },
      "text/plain": [
       "config.json:   0%|          | 0.00/1.63k [00:00<?, ?B/s]"
      ]
     },
     "metadata": {},
     "output_type": "display_data"
    },
    {
     "data": {
      "application/vnd.jupyter.widget-view+json": {
       "model_id": "007831feb12d42adaac7590bae682140",
       "version_major": 2,
       "version_minor": 0
      },
      "text/plain": [
       "vocab.json:   0%|          | 0.00/899k [00:00<?, ?B/s]"
      ]
     },
     "metadata": {},
     "output_type": "display_data"
    },
    {
     "data": {
      "application/vnd.jupyter.widget-view+json": {
       "model_id": "ed0bf40bcada488e9aca06c00ab0cd8a",
       "version_major": 2,
       "version_minor": 0
      },
      "text/plain": [
       "merges.txt:   0%|          | 0.00/456k [00:00<?, ?B/s]"
      ]
     },
     "metadata": {},
     "output_type": "display_data"
    },
    {
     "data": {
      "application/vnd.jupyter.widget-view+json": {
       "model_id": "94440ad86a074ff3997a7f292580b054",
       "version_major": 2,
       "version_minor": 0
      },
      "text/plain": [
       "tokenizer.json:   0%|          | 0.00/1.36M [00:00<?, ?B/s]"
      ]
     },
     "metadata": {},
     "output_type": "display_data"
    },
    {
     "data": {
      "application/vnd.jupyter.widget-view+json": {
       "model_id": "965c57a14c0e49fc8ecfc9190c2cc6ef",
       "version_major": 2,
       "version_minor": 0
      },
      "text/plain": [
       "pytorch_model.bin:   0%|          | 0.00/1.02G [00:00<?, ?B/s]"
      ]
     },
     "metadata": {},
     "output_type": "display_data"
    },
    {
     "name": "stderr",
     "output_type": "stream",
     "text": [
      "100%|██████████| 200/200 [20:28<00:00,  6.14s/it]\n"
     ]
    },
    {
     "data": {
      "text/html": [
       "<div>\n",
       "<style scoped>\n",
       "    .dataframe tbody tr th:only-of-type {\n",
       "        vertical-align: middle;\n",
       "    }\n",
       "\n",
       "    .dataframe tbody tr th {\n",
       "        vertical-align: top;\n",
       "    }\n",
       "\n",
       "    .dataframe thead th {\n",
       "        text-align: right;\n",
       "    }\n",
       "</style>\n",
       "<table border=\"1\" class=\"dataframe\">\n",
       "  <thead>\n",
       "    <tr style=\"text-align: right;\">\n",
       "      <th></th>\n",
       "      <th>Model</th>\n",
       "      <th>Final BLEU Score</th>\n",
       "      <th>Final ROUGE-1</th>\n",
       "      <th>Final ROUGE-2</th>\n",
       "      <th>Final ROUGE-L</th>\n",
       "    </tr>\n",
       "  </thead>\n",
       "  <tbody>\n",
       "    <tr>\n",
       "      <th>0</th>\n",
       "      <td>Fine Tuned BART</td>\n",
       "      <td>0.055871</td>\n",
       "      <td>0.336750</td>\n",
       "      <td>0.113000</td>\n",
       "      <td>0.294289</td>\n",
       "    </tr>\n",
       "    <tr>\n",
       "      <th>1</th>\n",
       "      <td>Fine Tuned distilBART</td>\n",
       "      <td>0.031865</td>\n",
       "      <td>0.305717</td>\n",
       "      <td>0.094207</td>\n",
       "      <td>0.268880</td>\n",
       "    </tr>\n",
       "    <tr>\n",
       "      <th>2</th>\n",
       "      <td>Pegasus</td>\n",
       "      <td>0.042347</td>\n",
       "      <td>0.307075</td>\n",
       "      <td>0.092487</td>\n",
       "      <td>0.259921</td>\n",
       "    </tr>\n",
       "    <tr>\n",
       "      <th>3</th>\n",
       "      <td>BART</td>\n",
       "      <td>0.052583</td>\n",
       "      <td>0.298987</td>\n",
       "      <td>0.090948</td>\n",
       "      <td>0.259226</td>\n",
       "    </tr>\n",
       "  </tbody>\n",
       "</table>\n",
       "</div>"
      ],
      "text/plain": [
       "                   Model  Final BLEU Score  Final ROUGE-1  Final ROUGE-2  \\\n",
       "0        Fine Tuned BART          0.055871       0.336750       0.113000   \n",
       "1  Fine Tuned distilBART          0.031865       0.305717       0.094207   \n",
       "2                Pegasus          0.042347       0.307075       0.092487   \n",
       "3                   BART          0.052583       0.298987       0.090948   \n",
       "\n",
       "   Final ROUGE-L  \n",
       "0       0.294289  \n",
       "1       0.268880  \n",
       "2       0.259921  \n",
       "3       0.259226  "
      ]
     },
     "execution_count": 21,
     "metadata": {},
     "output_type": "execute_result"
    }
   ],
   "source": [
    "# Initialize an empty DataFrame\n",
    "results_df = pd.DataFrame()  \n",
    "\n",
    "# Call the function for different models\n",
    "common_model_names = [\"Fine Tuned BART\", \"Fine Tuned distilBART\",\"Pegasus\",\"BART\"]\n",
    "actual_model_names = [\n",
    "    \"JustinDu/BARTxiv\", \n",
    "    \"WasibMehmood/TextSummizer\",\n",
    "    \"google/pegasus-large\",\n",
    "    \"facebook/bart-large\"\n",
    "]\n",
    "\n",
    "for common_name, actual_name in zip(common_model_names, actual_model_names):\n",
    "    scores = evaluate_model(common_name, actual_name, df)\n",
    "    \n",
    "    # Convert scores to DataFrame if it's not already\n",
    "    scores_df = pd.DataFrame([scores])  # Assuming scores is a dict\n",
    "    results_df = pd.concat([results_df, scores_df], ignore_index=True)\n",
    "\n",
    "results_df"
   ]
  },
  {
   "cell_type": "markdown",
   "metadata": {},
   "source": [
    "# Visualization of performance of pre-trained models. "
   ]
  },
  {
   "cell_type": "code",
   "execution_count": 22,
   "metadata": {
    "execution": {
     "iopub.execute_input": "2024-10-24T17:50:20.670938Z",
     "iopub.status.busy": "2024-10-24T17:50:20.670563Z",
     "iopub.status.idle": "2024-10-24T17:50:21.030456Z",
     "shell.execute_reply": "2024-10-24T17:50:21.029403Z",
     "shell.execute_reply.started": "2024-10-24T17:50:20.670899Z"
    }
   },
   "outputs": [
    {
     "data": {
      "text/plain": [
       "<Figure size 1200x600 with 0 Axes>"
      ]
     },
     "metadata": {},
     "output_type": "display_data"
    },
    {
     "data": {
      "image/png": "[encoded data removed]",
      "text/plain": [
       "<Figure size 640x480 with 1 Axes>"
      ]
     },
     "metadata": {},
     "output_type": "display_data"
    }
   ],
   "source": [
    "# Bar plot for metrics\n",
    "plt.figure(figsize=(12, 6))\n",
    "results_df.set_index('Model').plot(kind='bar', alpha=0.8)\n",
    "plt.title('Model Performance Comparison')\n",
    "plt.ylabel('Score')\n",
    "plt.xlabel('Models')\n",
    "plt.xticks(rotation=90)\n",
    "plt.legend(title='Metrics', bbox_to_anchor=(1.05, 1), loc='upper left')\n",
    "plt.tight_layout()\n",
    "plt.show()\n"
   ]
  },
  {
   "cell_type": "markdown",
   "metadata": {
    "execution": {
     "iopub.execute_input": "2024-11-01T10:02:58.323486Z",
     "iopub.status.busy": "2024-11-01T10:02:58.323073Z",
     "iopub.status.idle": "2024-11-01T10:02:58.327948Z",
     "shell.execute_reply": "2024-11-01T10:02:58.327066Z",
     "shell.execute_reply.started": "2024-11-01T10:02:58.323442Z"
    }
   },
   "source": [
    "# Training LSTM Model\n",
    "#### NOTE: Due to memory constraints LSTM model is trained and saved. Later the saved model is called and has to be implemented on a subset of the dataset. "
   ]
  },
  {
   "cell_type": "code",
   "execution_count": 7,
   "metadata": {
    "execution": {
     "iopub.execute_input": "2024-11-01T10:03:05.321986Z",
     "iopub.status.busy": "2024-11-01T10:03:05.321612Z",
     "iopub.status.idle": "2024-11-01T10:03:06.656197Z",
     "shell.execute_reply": "2024-11-01T10:03:06.654382Z",
     "shell.execute_reply.started": "2024-11-01T10:03:05.321949Z"
    }
   },
   "outputs": [
    {
     "data": {
      "text/html": [
       "<div>\n",
       "<style scoped>\n",
       "    .dataframe tbody tr th:only-of-type {\n",
       "        vertical-align: middle;\n",
       "    }\n",
       "\n",
       "    .dataframe tbody tr th {\n",
       "        vertical-align: top;\n",
       "    }\n",
       "\n",
       "    .dataframe thead th {\n",
       "        text-align: right;\n",
       "    }\n",
       "</style>\n",
       "<table border=\"1\" class=\"dataframe\">\n",
       "  <thead>\n",
       "    <tr style=\"text-align: right;\">\n",
       "      <th></th>\n",
       "      <th>article</th>\n",
       "      <th>abstract</th>\n",
       "    </tr>\n",
       "  </thead>\n",
       "  <tbody>\n",
       "    <tr>\n",
       "      <th>0</th>\n",
       "      <td>the interest in anchoring phenomena and phenom...</td>\n",
       "      <td>we study the phase behavior of a nematic liqui...</td>\n",
       "    </tr>\n",
       "    <tr>\n",
       "      <th>1</th>\n",
       "      <td>galaxy clusters , as the largest peaks in the ...</td>\n",
       "      <td>determining the scaling relations between gala...</td>\n",
       "    </tr>\n",
       "    <tr>\n",
       "      <th>2</th>\n",
       "      <td>quantum correlations between components of a s...</td>\n",
       "      <td>we show how to control spatial quantum correla...</td>\n",
       "    </tr>\n",
       "    <tr>\n",
       "      <th>3</th>\n",
       "      <td>methanol masers are often found in star - form...</td>\n",
       "      <td>class  i methanol masers are believed to be pr...</td>\n",
       "    </tr>\n",
       "    <tr>\n",
       "      <th>4</th>\n",
       "      <td>interdisciplinary research has recently gained...</td>\n",
       "      <td>nowadays , scientific challenges usually requi...</td>\n",
       "    </tr>\n",
       "    <tr>\n",
       "      <th>...</th>\n",
       "      <td>...</td>\n",
       "      <td>...</td>\n",
       "    </tr>\n",
       "    <tr>\n",
       "      <th>6431</th>\n",
       "      <td>in the gauge theory , only the gauge invariant...</td>\n",
       "      <td>we give a formal proof that the space - time a...</td>\n",
       "    </tr>\n",
       "    <tr>\n",
       "      <th>6432</th>\n",
       "      <td>the stability of thin films on substrates has ...</td>\n",
       "      <td>we consider here the effects of inertia on the...</td>\n",
       "    </tr>\n",
       "    <tr>\n",
       "      <th>6433</th>\n",
       "      <td>density - functional theory ( dft )  @xcite is...</td>\n",
       "      <td>we introduce an orbital - optimized double - h...</td>\n",
       "    </tr>\n",
       "    <tr>\n",
       "      <th>6434</th>\n",
       "      <td>laser - compton scattering is an attractive me...</td>\n",
       "      <td>we have been developing optical resonant cavit...</td>\n",
       "    </tr>\n",
       "    <tr>\n",
       "      <th>6435</th>\n",
       "      <td>in this paper we consider a simple example of ...</td>\n",
       "      <td>we have performed a numerical investigation of...</td>\n",
       "    </tr>\n",
       "  </tbody>\n",
       "</table>\n",
       "<p>6436 rows × 2 columns</p>\n",
       "</div>"
      ],
      "text/plain": [
       "                                                article  \\\n",
       "0     the interest in anchoring phenomena and phenom...   \n",
       "1     galaxy clusters , as the largest peaks in the ...   \n",
       "2     quantum correlations between components of a s...   \n",
       "3     methanol masers are often found in star - form...   \n",
       "4     interdisciplinary research has recently gained...   \n",
       "...                                                 ...   \n",
       "6431  in the gauge theory , only the gauge invariant...   \n",
       "6432  the stability of thin films on substrates has ...   \n",
       "6433  density - functional theory ( dft )  @xcite is...   \n",
       "6434  laser - compton scattering is an attractive me...   \n",
       "6435  in this paper we consider a simple example of ...   \n",
       "\n",
       "                                               abstract  \n",
       "0     we study the phase behavior of a nematic liqui...  \n",
       "1     determining the scaling relations between gala...  \n",
       "2     we show how to control spatial quantum correla...  \n",
       "3     class  i methanol masers are believed to be pr...  \n",
       "4     nowadays , scientific challenges usually requi...  \n",
       "...                                                 ...  \n",
       "6431  we give a formal proof that the space - time a...  \n",
       "6432  we consider here the effects of inertia on the...  \n",
       "6433  we introduce an orbital - optimized double - h...  \n",
       "6434  we have been developing optical resonant cavit...  \n",
       "6435  we have performed a numerical investigation of...  \n",
       "\n",
       "[6436 rows x 2 columns]"
      ]
     },
     "execution_count": 7,
     "metadata": {},
     "output_type": "execute_result"
    }
   ],
   "source": [
    "# Load your data\n",
    "df = pd.read_parquet('/kaggle/input/arxivdataset/validation-00000-of-00001.parquet')  \n",
    "df"
   ]
  },
  {
   "cell_type": "code",
   "execution_count": 8,
   "metadata": {
    "execution": {
     "iopub.execute_input": "2024-11-01T10:03:17.939556Z",
     "iopub.status.busy": "2024-11-01T10:03:17.939189Z",
     "iopub.status.idle": "2024-11-01T10:03:17.944008Z",
     "shell.execute_reply": "2024-11-01T10:03:17.943081Z",
     "shell.execute_reply.started": "2024-11-01T10:03:17.939517Z"
    }
   },
   "outputs": [],
   "source": [
    "max_words = 50000\n",
    "max_len_article = 9743  \n",
    "max_len_abstract = 219    "
   ]
  },
  {
   "cell_type": "code",
   "execution_count": 11,
   "metadata": {
    "execution": {
     "iopub.execute_input": "2024-11-01T10:03:59.556059Z",
     "iopub.status.busy": "2024-11-01T10:03:59.555339Z",
     "iopub.status.idle": "2024-11-01T10:04:42.289542Z",
     "shell.execute_reply": "2024-11-01T10:04:42.288696Z",
     "shell.execute_reply.started": "2024-11-01T10:03:59.556019Z"
    }
   },
   "outputs": [],
   "source": [
    "#Tokenizes and pads article texts for neural network input.\n",
    "\n",
    "article_tokenizer = Tokenizer(num_words=max_words)\n",
    "article_tokenizer.fit_on_texts(df['article'])\n",
    "article_sequences = article_tokenizer.texts_to_sequences(df['article'])\n",
    "article_padded = pad_sequences(article_sequences, maxlen=max_len_article, padding='post')"
   ]
  },
  {
   "cell_type": "code",
   "execution_count": 12,
   "metadata": {
    "execution": {
     "iopub.execute_input": "2024-11-01T10:04:42.291559Z",
     "iopub.status.busy": "2024-11-01T10:04:42.291233Z",
     "iopub.status.idle": "2024-11-01T10:04:43.829333Z",
     "shell.execute_reply": "2024-11-01T10:04:43.828505Z",
     "shell.execute_reply.started": "2024-11-01T10:04:42.291525Z"
    }
   },
   "outputs": [],
   "source": [
    "#Tokenizes and pads abstracts texts for neural network input.\n",
    "\n",
    "abstract_tokenizer = Tokenizer(num_words=max_words)\n",
    "abstract_tokenizer.fit_on_texts(df['abstract'])\n",
    "abstract_squences = abstract_tokenizer.texts_to_sequences(df['abstract'])\n",
    "abstract_padded = pad_sequences(abstract_squences, maxlen=max_len_abstract, padding='post')"
   ]
  },
  {
   "cell_type": "code",
   "execution_count": 13,
   "metadata": {
    "execution": {
     "iopub.execute_input": "2024-11-01T10:04:43.830937Z",
     "iopub.status.busy": "2024-11-01T10:04:43.830542Z",
     "iopub.status.idle": "2024-11-01T10:04:43.835637Z",
     "shell.execute_reply": "2024-11-01T10:04:43.834642Z",
     "shell.execute_reply.started": "2024-11-01T10:04:43.830888Z"
    }
   },
   "outputs": [],
   "source": [
    "num_words_article = len(article_tokenizer.word_index) + 1\n",
    "num_words_abstract = len(abstract_tokenizer.word_index) + 1"
   ]
  },
  {
   "cell_type": "code",
   "execution_count": 14,
   "metadata": {
    "execution": {
     "iopub.execute_input": "2024-11-01T10:04:43.838422Z",
     "iopub.status.busy": "2024-11-01T10:04:43.838010Z",
     "iopub.status.idle": "2024-11-01T10:04:43.968493Z",
     "shell.execute_reply": "2024-11-01T10:04:43.967679Z",
     "shell.execute_reply.started": "2024-11-01T10:04:43.838377Z"
    }
   },
   "outputs": [],
   "source": [
    "#Split data into train, validation and test\n",
    "X_train, X_temp, y_train, y_temp = train_test_split(article_padded, abstract_padded, test_size=0.5, random_state=42)\n",
    "X_val, X_test, y_val, y_test = train_test_split(X_temp, y_temp, test_size=0.5, random_state=42)"
   ]
  },
  {
   "cell_type": "code",
   "execution_count": 15,
   "metadata": {
    "execution": {
     "iopub.execute_input": "2024-11-01T10:04:43.970410Z",
     "iopub.status.busy": "2024-11-01T10:04:43.969688Z",
     "iopub.status.idle": "2024-11-01T10:04:45.189066Z",
     "shell.execute_reply": "2024-11-01T10:04:45.188310Z",
     "shell.execute_reply.started": "2024-11-01T10:04:43.970362Z"
    }
   },
   "outputs": [],
   "source": [
    "# Encoder-Decoder Model\n",
    "\n",
    "# Encoder\n",
    "encoder_inputs = Input(shape=(max_len_article,))\n",
    "encoder_embedding = Embedding(input_dim=num_words_article, output_dim=128, input_length=max_len_article)(encoder_inputs)\n",
    "encoder_lstm = LSTM(256, return_state=True)\n",
    "encoder_outputs, state_h, state_c = encoder_lstm(encoder_embedding)\n",
    "\n",
    "# Decoder\n",
    "decoder_inputs = Input(shape=(max_len_abstract,))\n",
    "decoder_embedding = Embedding(input_dim=num_words_abstract, output_dim=128, input_length=max_len_abstract)(decoder_inputs)\n",
    "decoder_lstm = LSTM(256, return_sequences=True, return_state=True)\n",
    "decoder_outputs, _, _ = decoder_lstm(decoder_embedding, initial_state=[state_h, state_c])\n",
    "\n",
    "# Dense layer to generate final summary\n",
    "decoder_dense = Dense(num_words_abstract, activation='softmax')\n",
    "decoder_outputs = decoder_dense(decoder_outputs)"
   ]
  },
  {
   "cell_type": "code",
   "execution_count": 16,
   "metadata": {
    "execution": {
     "iopub.execute_input": "2024-11-01T10:04:45.190478Z",
     "iopub.status.busy": "2024-11-01T10:04:45.190117Z",
     "iopub.status.idle": "2024-11-01T10:04:45.199023Z",
     "shell.execute_reply": "2024-11-01T10:04:45.198131Z",
     "shell.execute_reply.started": "2024-11-01T10:04:45.190442Z"
    }
   },
   "outputs": [],
   "source": [
    "model = Model([encoder_inputs, decoder_inputs], decoder_outputs)"
   ]
  },
  {
   "cell_type": "code",
   "execution_count": 17,
   "metadata": {
    "execution": {
     "iopub.execute_input": "2024-11-01T10:04:45.200421Z",
     "iopub.status.busy": "2024-11-01T10:04:45.200004Z",
     "iopub.status.idle": "2024-11-01T10:04:45.218045Z",
     "shell.execute_reply": "2024-11-01T10:04:45.217196Z",
     "shell.execute_reply.started": "2024-11-01T10:04:45.200388Z"
    }
   },
   "outputs": [],
   "source": [
    "model.compile(optimizer='adam', loss='sparse_categorical_crossentropy')"
   ]
  },
  {
   "cell_type": "code",
   "execution_count": 20,
   "metadata": {
    "execution": {
     "iopub.execute_input": "2024-11-01T10:05:31.342640Z",
     "iopub.status.busy": "2024-11-01T10:05:31.342252Z",
     "iopub.status.idle": "2024-11-01T10:05:31.347174Z",
     "shell.execute_reply": "2024-11-01T10:05:31.345995Z",
     "shell.execute_reply.started": "2024-11-01T10:05:31.342594Z"
    }
   },
   "outputs": [],
   "source": [
    "early_stopping = EarlyStopping(monitor='val_loss', patience=10, restore_best_weights=True)"
   ]
  },
  {
   "cell_type": "code",
   "execution_count": 21,
   "metadata": {
    "execution": {
     "iopub.execute_input": "2024-11-01T10:05:33.524829Z",
     "iopub.status.busy": "2024-11-01T10:05:33.524430Z",
     "iopub.status.idle": "2024-11-01T10:05:33.529302Z",
     "shell.execute_reply": "2024-11-01T10:05:33.528292Z",
     "shell.execute_reply.started": "2024-11-01T10:05:33.524790Z"
    }
   },
   "outputs": [],
   "source": [
    "decoder_target_data_train = np.expand_dims(y_train, -1)\n",
    "decoder_target_data_val = np.expand_dims(y_val, -1)"
   ]
  },
  {
   "cell_type": "code",
   "execution_count": 22,
   "metadata": {
    "execution": {
     "iopub.execute_input": "2024-11-01T10:05:36.170941Z",
     "iopub.status.busy": "2024-11-01T10:05:36.170323Z",
     "iopub.status.idle": "2024-11-01T12:22:50.165583Z",
     "shell.execute_reply": "2024-11-01T12:22:50.164591Z",
     "shell.execute_reply.started": "2024-11-01T10:05:36.170902Z"
    }
   },
   "outputs": [
    {
     "name": "stdout",
     "output_type": "stream",
     "text": [
      "Epoch 1/100\n",
      "\u001b[1m101/101\u001b[0m \u001b[32m━━━━━━━━━━━━━━━━━━━━\u001b[0m\u001b[37m\u001b[0m \u001b[1m81s\u001b[0m 765ms/step - loss: 7.1546 - val_loss: 4.7731\n",
      "Epoch 2/100\n",
      "\u001b[1m101/101\u001b[0m \u001b[32m━━━━━━━━━━━━━━━━━━━━\u001b[0m\u001b[37m\u001b[0m \u001b[1m82s\u001b[0m 810ms/step - loss: 4.5587 - val_loss: 4.1742\n",
      "Epoch 3/100\n",
      "\u001b[1m101/101\u001b[0m \u001b[32m━━━━━━━━━━━━━━━━━━━━\u001b[0m\u001b[37m\u001b[0m \u001b[1m82s\u001b[0m 813ms/step - loss: 4.0823 - val_loss: 3.8031\n",
      "Epoch 4/100\n",
      "\u001b[1m101/101\u001b[0m \u001b[32m━━━━━━━━━━━━━━━━━━━━\u001b[0m\u001b[37m\u001b[0m \u001b[1m82s\u001b[0m 815ms/step - loss: 3.6825 - val_loss: 3.4855\n",
      "Epoch 5/100\n",
      "\u001b[1m101/101\u001b[0m \u001b[32m━━━━━━━━━━━━━━━━━━━━\u001b[0m\u001b[37m\u001b[0m \u001b[1m82s\u001b[0m 813ms/step - loss: 3.3868 - val_loss: 3.2112\n",
      "Epoch 6/100\n",
      "\u001b[1m101/101\u001b[0m \u001b[32m━━━━━━━━━━━━━━━━━━━━\u001b[0m\u001b[37m\u001b[0m \u001b[1m82s\u001b[0m 815ms/step - loss: 3.0730 - val_loss: 2.8821\n",
      "Epoch 7/100\n",
      "\u001b[1m101/101\u001b[0m \u001b[32m━━━━━━━━━━━━━━━━━━━━\u001b[0m\u001b[37m\u001b[0m \u001b[1m82s\u001b[0m 816ms/step - loss: 2.7116 - val_loss: 2.4915\n",
      "Epoch 8/100\n",
      "\u001b[1m101/101\u001b[0m \u001b[32m━━━━━━━━━━━━━━━━━━━━\u001b[0m\u001b[37m\u001b[0m \u001b[1m82s\u001b[0m 816ms/step - loss: 2.3207 - val_loss: 2.0904\n",
      "Epoch 9/100\n",
      "\u001b[1m101/101\u001b[0m \u001b[32m━━━━━━━━━━━━━━━━━━━━\u001b[0m\u001b[37m\u001b[0m \u001b[1m82s\u001b[0m 816ms/step - loss: 1.9094 - val_loss: 1.7548\n",
      "Epoch 10/100\n",
      "\u001b[1m101/101\u001b[0m \u001b[32m━━━━━━━━━━━━━━━━━━━━\u001b[0m\u001b[37m\u001b[0m \u001b[1m82s\u001b[0m 817ms/step - loss: 1.5862 - val_loss: 1.4931\n",
      "Epoch 11/100\n",
      "\u001b[1m101/101\u001b[0m \u001b[32m━━━━━━━━━━━━━━━━━━━━\u001b[0m\u001b[37m\u001b[0m \u001b[1m83s\u001b[0m 819ms/step - loss: 1.3595 - val_loss: 1.2939\n",
      "Epoch 12/100\n",
      "\u001b[1m101/101\u001b[0m \u001b[32m━━━━━━━━━━━━━━━━━━━━\u001b[0m\u001b[37m\u001b[0m \u001b[1m82s\u001b[0m 818ms/step - loss: 1.1529 - val_loss: 1.1421\n",
      "Epoch 13/100\n",
      "\u001b[1m101/101\u001b[0m \u001b[32m━━━━━━━━━━━━━━━━━━━━\u001b[0m\u001b[37m\u001b[0m \u001b[1m82s\u001b[0m 818ms/step - loss: 1.0092 - val_loss: 1.0224\n",
      "Epoch 14/100\n",
      "\u001b[1m101/101\u001b[0m \u001b[32m━━━━━━━━━━━━━━━━━━━━\u001b[0m\u001b[37m\u001b[0m \u001b[1m82s\u001b[0m 817ms/step - loss: 0.8719 - val_loss: 0.9273\n",
      "Epoch 15/100\n",
      "\u001b[1m101/101\u001b[0m \u001b[32m━━━━━━━━━━━━━━━━━━━━\u001b[0m\u001b[37m\u001b[0m \u001b[1m82s\u001b[0m 817ms/step - loss: 0.7874 - val_loss: 0.8479\n",
      "Epoch 16/100\n",
      "\u001b[1m101/101\u001b[0m \u001b[32m━━━━━━━━━━━━━━━━━━━━\u001b[0m\u001b[37m\u001b[0m \u001b[1m82s\u001b[0m 817ms/step - loss: 0.7020 - val_loss: 0.7808\n",
      "Epoch 17/100\n",
      "\u001b[1m101/101\u001b[0m \u001b[32m━━━━━━━━━━━━━━━━━━━━\u001b[0m\u001b[37m\u001b[0m \u001b[1m82s\u001b[0m 815ms/step - loss: 0.6191 - val_loss: 0.7236\n",
      "Epoch 18/100\n",
      "\u001b[1m101/101\u001b[0m \u001b[32m━━━━━━━━━━━━━━━━━━━━\u001b[0m\u001b[37m\u001b[0m \u001b[1m82s\u001b[0m 818ms/step - loss: 0.5522 - val_loss: 0.6739\n",
      "Epoch 19/100\n",
      "\u001b[1m101/101\u001b[0m \u001b[32m━━━━━━━━━━━━━━━━━━━━\u001b[0m\u001b[37m\u001b[0m \u001b[1m82s\u001b[0m 816ms/step - loss: 0.4974 - val_loss: 0.6316\n",
      "Epoch 20/100\n",
      "\u001b[1m101/101\u001b[0m \u001b[32m━━━━━━━━━━━━━━━━━━━━\u001b[0m\u001b[37m\u001b[0m \u001b[1m83s\u001b[0m 818ms/step - loss: 0.4490 - val_loss: 0.5943\n",
      "Epoch 21/100\n",
      "\u001b[1m101/101\u001b[0m \u001b[32m━━━━━━━━━━━━━━━━━━━━\u001b[0m\u001b[37m\u001b[0m \u001b[1m82s\u001b[0m 817ms/step - loss: 0.4059 - val_loss: 0.5620\n",
      "Epoch 22/100\n",
      "\u001b[1m101/101\u001b[0m \u001b[32m━━━━━━━━━━━━━━━━━━━━\u001b[0m\u001b[37m\u001b[0m \u001b[1m82s\u001b[0m 817ms/step - loss: 0.3617 - val_loss: 0.5339\n",
      "Epoch 23/100\n",
      "\u001b[1m101/101\u001b[0m \u001b[32m━━━━━━━━━━━━━━━━━━━━\u001b[0m\u001b[37m\u001b[0m \u001b[1m82s\u001b[0m 818ms/step - loss: 0.3297 - val_loss: 0.5085\n",
      "Epoch 24/100\n",
      "\u001b[1m101/101\u001b[0m \u001b[32m━━━━━━━━━━━━━━━━━━━━\u001b[0m\u001b[37m\u001b[0m \u001b[1m82s\u001b[0m 817ms/step - loss: 0.2995 - val_loss: 0.4869\n",
      "Epoch 25/100\n",
      "\u001b[1m101/101\u001b[0m \u001b[32m━━━━━━━━━━━━━━━━━━━━\u001b[0m\u001b[37m\u001b[0m \u001b[1m82s\u001b[0m 816ms/step - loss: 0.2857 - val_loss: 0.4671\n",
      "Epoch 26/100\n",
      "\u001b[1m101/101\u001b[0m \u001b[32m━━━━━━━━━━━━━━━━━━━━\u001b[0m\u001b[37m\u001b[0m \u001b[1m82s\u001b[0m 818ms/step - loss: 0.2405 - val_loss: 0.4497\n",
      "Epoch 27/100\n",
      "\u001b[1m101/101\u001b[0m \u001b[32m━━━━━━━━━━━━━━━━━━━━\u001b[0m\u001b[37m\u001b[0m \u001b[1m82s\u001b[0m 818ms/step - loss: 0.2176 - val_loss: 0.4335\n",
      "Epoch 28/100\n",
      "\u001b[1m101/101\u001b[0m \u001b[32m━━━━━━━━━━━━━━━━━━━━\u001b[0m\u001b[37m\u001b[0m \u001b[1m82s\u001b[0m 817ms/step - loss: 0.1913 - val_loss: 0.4194\n",
      "Epoch 29/100\n",
      "\u001b[1m101/101\u001b[0m \u001b[32m━━━━━━━━━━━━━━━━━━━━\u001b[0m\u001b[37m\u001b[0m \u001b[1m83s\u001b[0m 819ms/step - loss: 0.1736 - val_loss: 0.4064\n",
      "Epoch 30/100\n",
      "\u001b[1m101/101\u001b[0m \u001b[32m━━━━━━━━━━━━━━━━━━━━\u001b[0m\u001b[37m\u001b[0m \u001b[1m82s\u001b[0m 817ms/step - loss: 0.1514 - val_loss: 0.3937\n",
      "Epoch 31/100\n",
      "\u001b[1m101/101\u001b[0m \u001b[32m━━━━━━━━━━━━━━━━━━━━\u001b[0m\u001b[37m\u001b[0m \u001b[1m82s\u001b[0m 814ms/step - loss: 0.1345 - val_loss: 0.3825\n",
      "Epoch 32/100\n",
      "\u001b[1m101/101\u001b[0m \u001b[32m━━━━━━━━━━━━━━━━━━━━\u001b[0m\u001b[37m\u001b[0m \u001b[1m82s\u001b[0m 815ms/step - loss: 0.1183 - val_loss: 0.3718\n",
      "Epoch 33/100\n",
      "\u001b[1m101/101\u001b[0m \u001b[32m━━━━━━━━━━━━━━━━━━━━\u001b[0m\u001b[37m\u001b[0m \u001b[1m82s\u001b[0m 816ms/step - loss: 0.1063 - val_loss: 0.3625\n",
      "Epoch 34/100\n",
      "\u001b[1m101/101\u001b[0m \u001b[32m━━━━━━━━━━━━━━━━━━━━\u001b[0m\u001b[37m\u001b[0m \u001b[1m82s\u001b[0m 816ms/step - loss: 0.0896 - val_loss: 0.3537\n",
      "Epoch 35/100\n",
      "\u001b[1m101/101\u001b[0m \u001b[32m━━━━━━━━━━━━━━━━━━━━\u001b[0m\u001b[37m\u001b[0m \u001b[1m82s\u001b[0m 816ms/step - loss: 0.0790 - val_loss: 0.3458\n",
      "Epoch 36/100\n",
      "\u001b[1m101/101\u001b[0m \u001b[32m━━━━━━━━━━━━━━━━━━━━\u001b[0m\u001b[37m\u001b[0m \u001b[1m82s\u001b[0m 817ms/step - loss: 0.0701 - val_loss: 0.3388\n",
      "Epoch 37/100\n",
      "\u001b[1m101/101\u001b[0m \u001b[32m━━━━━━━━━━━━━━━━━━━━\u001b[0m\u001b[37m\u001b[0m \u001b[1m82s\u001b[0m 815ms/step - loss: 0.0582 - val_loss: 0.3310\n",
      "Epoch 38/100\n",
      "\u001b[1m101/101\u001b[0m \u001b[32m━━━━━━━━━━━━━━━━━━━━\u001b[0m\u001b[37m\u001b[0m \u001b[1m82s\u001b[0m 816ms/step - loss: 0.0499 - val_loss: 0.3248\n",
      "Epoch 39/100\n",
      "\u001b[1m101/101\u001b[0m \u001b[32m━━━━━━━━━━━━━━━━━━━━\u001b[0m\u001b[37m\u001b[0m \u001b[1m82s\u001b[0m 815ms/step - loss: 0.0428 - val_loss: 0.3192\n",
      "Epoch 40/100\n",
      "\u001b[1m101/101\u001b[0m \u001b[32m━━━━━━━━━━━━━━━━━━━━\u001b[0m\u001b[37m\u001b[0m \u001b[1m82s\u001b[0m 816ms/step - loss: 0.0348 - val_loss: 0.3138\n",
      "Epoch 41/100\n",
      "\u001b[1m101/101\u001b[0m \u001b[32m━━━━━━━━━━━━━━━━━━━━\u001b[0m\u001b[37m\u001b[0m \u001b[1m82s\u001b[0m 814ms/step - loss: 0.0297 - val_loss: 0.3082\n",
      "Epoch 42/100\n",
      "\u001b[1m101/101\u001b[0m \u001b[32m━━━━━━━━━━━━━━━━━━━━\u001b[0m\u001b[37m\u001b[0m \u001b[1m82s\u001b[0m 815ms/step - loss: 0.0248 - val_loss: 0.3036\n",
      "Epoch 43/100\n",
      "\u001b[1m101/101\u001b[0m \u001b[32m━━━━━━━━━━━━━━━━━━━━\u001b[0m\u001b[37m\u001b[0m \u001b[1m82s\u001b[0m 817ms/step - loss: 0.0205 - val_loss: 0.2986\n",
      "Epoch 44/100\n",
      "\u001b[1m101/101\u001b[0m \u001b[32m━━━━━━━━━━━━━━━━━━━━\u001b[0m\u001b[37m\u001b[0m \u001b[1m82s\u001b[0m 815ms/step - loss: 0.0174 - val_loss: 0.2950\n",
      "Epoch 45/100\n",
      "\u001b[1m101/101\u001b[0m \u001b[32m━━━━━━━━━━━━━━━━━━━━\u001b[0m\u001b[37m\u001b[0m \u001b[1m82s\u001b[0m 815ms/step - loss: 0.0144 - val_loss: 0.2917\n",
      "Epoch 46/100\n",
      "\u001b[1m101/101\u001b[0m \u001b[32m━━━━━━━━━━━━━━━━━━━━\u001b[0m\u001b[37m\u001b[0m \u001b[1m82s\u001b[0m 815ms/step - loss: 0.0122 - val_loss: 0.2885\n",
      "Epoch 47/100\n",
      "\u001b[1m101/101\u001b[0m \u001b[32m━━━━━━━━━━━━━━━━━━━━\u001b[0m\u001b[37m\u001b[0m \u001b[1m82s\u001b[0m 816ms/step - loss: 0.0099 - val_loss: 0.2852\n",
      "Epoch 48/100\n",
      "\u001b[1m101/101\u001b[0m \u001b[32m━━━━━━━━━━━━━━━━━━━━\u001b[0m\u001b[37m\u001b[0m \u001b[1m82s\u001b[0m 818ms/step - loss: 0.0087 - val_loss: 0.2831\n",
      "Epoch 49/100\n",
      "\u001b[1m101/101\u001b[0m \u001b[32m━━━━━━━━━━━━━━━━━━━━\u001b[0m\u001b[37m\u001b[0m \u001b[1m82s\u001b[0m 815ms/step - loss: 0.0076 - val_loss: 0.2806\n",
      "Epoch 50/100\n",
      "\u001b[1m101/101\u001b[0m \u001b[32m━━━━━━━━━━━━━━━━━━━━\u001b[0m\u001b[37m\u001b[0m \u001b[1m82s\u001b[0m 815ms/step - loss: 0.0066 - val_loss: 0.2791\n",
      "Epoch 51/100\n",
      "\u001b[1m101/101\u001b[0m \u001b[32m━━━━━━━━━━━━━━━━━━━━\u001b[0m\u001b[37m\u001b[0m \u001b[1m82s\u001b[0m 818ms/step - loss: 0.0057 - val_loss: 0.2771\n",
      "Epoch 52/100\n",
      "\u001b[1m101/101\u001b[0m \u001b[32m━━━━━━━━━━━━━━━━━━━━\u001b[0m\u001b[37m\u001b[0m \u001b[1m82s\u001b[0m 816ms/step - loss: 0.0052 - val_loss: 0.2758\n",
      "Epoch 53/100\n",
      "\u001b[1m101/101\u001b[0m \u001b[32m━━━━━━━━━━━━━━━━━━━━\u001b[0m\u001b[37m\u001b[0m \u001b[1m82s\u001b[0m 814ms/step - loss: 0.0047 - val_loss: 0.2739\n",
      "Epoch 54/100\n",
      "\u001b[1m101/101\u001b[0m \u001b[32m━━━━━━━━━━━━━━━━━━━━\u001b[0m\u001b[37m\u001b[0m \u001b[1m82s\u001b[0m 817ms/step - loss: 0.0042 - val_loss: 0.2725\n",
      "Epoch 55/100\n",
      "\u001b[1m101/101\u001b[0m \u001b[32m━━━━━━━━━━━━━━━━━━━━\u001b[0m\u001b[37m\u001b[0m \u001b[1m82s\u001b[0m 817ms/step - loss: 0.0038 - val_loss: 0.2715\n",
      "Epoch 56/100\n",
      "\u001b[1m101/101\u001b[0m \u001b[32m━━━━━━━━━━━━━━━━━━━━\u001b[0m\u001b[37m\u001b[0m \u001b[1m82s\u001b[0m 817ms/step - loss: 0.0035 - val_loss: 0.2703\n",
      "Epoch 57/100\n",
      "\u001b[1m101/101\u001b[0m \u001b[32m━━━━━━━━━━━━━━━━━━━━\u001b[0m\u001b[37m\u001b[0m \u001b[1m82s\u001b[0m 815ms/step - loss: 0.0032 - val_loss: 0.2691\n",
      "Epoch 58/100\n",
      "\u001b[1m101/101\u001b[0m \u001b[32m━━━━━━━━━━━━━━━━━━━━\u001b[0m\u001b[37m\u001b[0m \u001b[1m82s\u001b[0m 816ms/step - loss: 0.0030 - val_loss: 0.2681\n",
      "Epoch 59/100\n",
      "\u001b[1m101/101\u001b[0m \u001b[32m━━━━━━━━━━━━━━━━━━━━\u001b[0m\u001b[37m\u001b[0m \u001b[1m82s\u001b[0m 817ms/step - loss: 0.0027 - val_loss: 0.2672\n",
      "Epoch 60/100\n",
      "\u001b[1m101/101\u001b[0m \u001b[32m━━━━━━━━━━━━━━━━━━━━\u001b[0m\u001b[37m\u001b[0m \u001b[1m82s\u001b[0m 815ms/step - loss: 0.0025 - val_loss: 0.2661\n",
      "Epoch 61/100\n",
      "\u001b[1m101/101\u001b[0m \u001b[32m━━━━━━━━━━━━━━━━━━━━\u001b[0m\u001b[37m\u001b[0m \u001b[1m82s\u001b[0m 815ms/step - loss: 0.0023 - val_loss: 0.2652\n",
      "Epoch 62/100\n",
      "\u001b[1m101/101\u001b[0m \u001b[32m━━━━━━━━━━━━━━━━━━━━\u001b[0m\u001b[37m\u001b[0m \u001b[1m82s\u001b[0m 816ms/step - loss: 0.0022 - val_loss: 0.2645\n",
      "Epoch 63/100\n",
      "\u001b[1m101/101\u001b[0m \u001b[32m━━━━━━━━━━━━━━━━━━━━\u001b[0m\u001b[37m\u001b[0m \u001b[1m82s\u001b[0m 816ms/step - loss: 0.0020 - val_loss: 0.2635\n",
      "Epoch 64/100\n",
      "\u001b[1m101/101\u001b[0m \u001b[32m━━━━━━━━━━━━━━━━━━━━\u001b[0m\u001b[37m\u001b[0m \u001b[1m89s\u001b[0m 884ms/step - loss: 0.0019 - val_loss: 0.2628\n",
      "Epoch 65/100\n",
      "\u001b[1m101/101\u001b[0m \u001b[32m━━━━━━━━━━━━━━━━━━━━\u001b[0m\u001b[37m\u001b[0m \u001b[1m82s\u001b[0m 816ms/step - loss: 0.0018 - val_loss: 0.2620\n",
      "Epoch 66/100\n",
      "\u001b[1m101/101\u001b[0m \u001b[32m━━━━━━━━━━━━━━━━━━━━\u001b[0m\u001b[37m\u001b[0m \u001b[1m82s\u001b[0m 816ms/step - loss: 0.0017 - val_loss: 0.2612\n",
      "Epoch 67/100\n",
      "\u001b[1m101/101\u001b[0m \u001b[32m━━━━━━━━━━━━━━━━━━━━\u001b[0m\u001b[37m\u001b[0m \u001b[1m82s\u001b[0m 815ms/step - loss: 0.0016 - val_loss: 0.2606\n",
      "Epoch 68/100\n",
      "\u001b[1m101/101\u001b[0m \u001b[32m━━━━━━━━━━━━━━━━━━━━\u001b[0m\u001b[37m\u001b[0m \u001b[1m82s\u001b[0m 814ms/step - loss: 0.0015 - val_loss: 0.2600\n",
      "Epoch 69/100\n",
      "\u001b[1m101/101\u001b[0m \u001b[32m━━━━━━━━━━━━━━━━━━━━\u001b[0m\u001b[37m\u001b[0m \u001b[1m82s\u001b[0m 816ms/step - loss: 0.0014 - val_loss: 0.2593\n",
      "Epoch 70/100\n",
      "\u001b[1m101/101\u001b[0m \u001b[32m━━━━━━━━━━━━━━━━━━━━\u001b[0m\u001b[37m\u001b[0m \u001b[1m82s\u001b[0m 816ms/step - loss: 0.0013 - val_loss: 0.2587\n",
      "Epoch 71/100\n",
      "\u001b[1m101/101\u001b[0m \u001b[32m━━━━━━━━━━━━━━━━━━━━\u001b[0m\u001b[37m\u001b[0m \u001b[1m82s\u001b[0m 817ms/step - loss: 0.0012 - val_loss: 0.2580\n",
      "Epoch 72/100\n",
      "\u001b[1m101/101\u001b[0m \u001b[32m━━━━━━━━━━━━━━━━━━━━\u001b[0m\u001b[37m\u001b[0m \u001b[1m82s\u001b[0m 815ms/step - loss: 0.0011 - val_loss: 0.2573\n",
      "Epoch 73/100\n",
      "\u001b[1m101/101\u001b[0m \u001b[32m━━━━━━━━━━━━━━━━━━━━\u001b[0m\u001b[37m\u001b[0m \u001b[1m82s\u001b[0m 814ms/step - loss: 0.0011 - val_loss: 0.2567\n",
      "Epoch 74/100\n",
      "\u001b[1m101/101\u001b[0m \u001b[32m━━━━━━━━━━━━━━━━━━━━\u001b[0m\u001b[37m\u001b[0m \u001b[1m82s\u001b[0m 816ms/step - loss: 0.0010 - val_loss: 0.2562\n",
      "Epoch 75/100\n",
      "\u001b[1m101/101\u001b[0m \u001b[32m━━━━━━━━━━━━━━━━━━━━\u001b[0m\u001b[37m\u001b[0m \u001b[1m82s\u001b[0m 815ms/step - loss: 9.7665e-04 - val_loss: 0.2556\n",
      "Epoch 76/100\n",
      "\u001b[1m101/101\u001b[0m \u001b[32m━━━━━━━━━━━━━━━━━━━━\u001b[0m\u001b[37m\u001b[0m \u001b[1m82s\u001b[0m 815ms/step - loss: 8.9717e-04 - val_loss: 0.2550\n",
      "Epoch 77/100\n",
      "\u001b[1m101/101\u001b[0m \u001b[32m━━━━━━━━━━━━━━━━━━━━\u001b[0m\u001b[37m\u001b[0m \u001b[1m82s\u001b[0m 818ms/step - loss: 8.4129e-04 - val_loss: 0.2546\n",
      "Epoch 78/100\n",
      "\u001b[1m101/101\u001b[0m \u001b[32m━━━━━━━━━━━━━━━━━━━━\u001b[0m\u001b[37m\u001b[0m \u001b[1m82s\u001b[0m 817ms/step - loss: 7.9740e-04 - val_loss: 0.2540\n",
      "Epoch 79/100\n",
      "\u001b[1m101/101\u001b[0m \u001b[32m━━━━━━━━━━━━━━━━━━━━\u001b[0m\u001b[37m\u001b[0m \u001b[1m82s\u001b[0m 815ms/step - loss: 7.5066e-04 - val_loss: 0.2535\n",
      "Epoch 80/100\n",
      "\u001b[1m101/101\u001b[0m \u001b[32m━━━━━━━━━━━━━━━━━━━━\u001b[0m\u001b[37m\u001b[0m \u001b[1m82s\u001b[0m 815ms/step - loss: 7.1362e-04 - val_loss: 0.2529\n",
      "Epoch 81/100\n",
      "\u001b[1m101/101\u001b[0m \u001b[32m━━━━━━━━━━━━━━━━━━━━\u001b[0m\u001b[37m\u001b[0m \u001b[1m82s\u001b[0m 816ms/step - loss: 6.7681e-04 - val_loss: 0.2525\n",
      "Epoch 82/100\n",
      "\u001b[1m101/101\u001b[0m \u001b[32m━━━━━━━━━━━━━━━━━━━━\u001b[0m\u001b[37m\u001b[0m \u001b[1m82s\u001b[0m 816ms/step - loss: 6.4215e-04 - val_loss: 0.2519\n",
      "Epoch 83/100\n",
      "\u001b[1m101/101\u001b[0m \u001b[32m━━━━━━━━━━━━━━━━━━━━\u001b[0m\u001b[37m\u001b[0m \u001b[1m82s\u001b[0m 814ms/step - loss: 6.0899e-04 - val_loss: 0.2517\n",
      "Epoch 84/100\n",
      "\u001b[1m101/101\u001b[0m \u001b[32m━━━━━━━━━━━━━━━━━━━━\u001b[0m\u001b[37m\u001b[0m \u001b[1m82s\u001b[0m 817ms/step - loss: 5.8401e-04 - val_loss: 0.2511\n",
      "Epoch 85/100\n",
      "\u001b[1m101/101\u001b[0m \u001b[32m━━━━━━━━━━━━━━━━━━━━\u001b[0m\u001b[37m\u001b[0m \u001b[1m82s\u001b[0m 814ms/step - loss: 5.5438e-04 - val_loss: 0.2507\n",
      "Epoch 86/100\n",
      "\u001b[1m101/101\u001b[0m \u001b[32m━━━━━━━━━━━━━━━━━━━━\u001b[0m\u001b[37m\u001b[0m \u001b[1m82s\u001b[0m 816ms/step - loss: 5.2420e-04 - val_loss: 0.2501\n",
      "Epoch 87/100\n",
      "\u001b[1m101/101\u001b[0m \u001b[32m━━━━━━━━━━━━━━━━━━━━\u001b[0m\u001b[37m\u001b[0m \u001b[1m82s\u001b[0m 817ms/step - loss: 4.9755e-04 - val_loss: 0.2497\n",
      "Epoch 88/100\n",
      "\u001b[1m101/101\u001b[0m \u001b[32m━━━━━━━━━━━━━━━━━━━━\u001b[0m\u001b[37m\u001b[0m \u001b[1m82s\u001b[0m 815ms/step - loss: 4.6497e-04 - val_loss: 0.2492\n",
      "Epoch 89/100\n",
      "\u001b[1m101/101\u001b[0m \u001b[32m━━━━━━━━━━━━━━━━━━━━\u001b[0m\u001b[37m\u001b[0m \u001b[1m82s\u001b[0m 816ms/step - loss: 4.4489e-04 - val_loss: 0.2488\n",
      "Epoch 90/100\n",
      "\u001b[1m101/101\u001b[0m \u001b[32m━━━━━━━━━━━━━━━━━━━━\u001b[0m\u001b[37m\u001b[0m \u001b[1m82s\u001b[0m 814ms/step - loss: 4.2667e-04 - val_loss: 0.2484\n",
      "Epoch 91/100\n",
      "\u001b[1m101/101\u001b[0m \u001b[32m━━━━━━━━━━━━━━━━━━━━\u001b[0m\u001b[37m\u001b[0m \u001b[1m82s\u001b[0m 816ms/step - loss: 4.0986e-04 - val_loss: 0.2481\n",
      "Epoch 92/100\n",
      "\u001b[1m101/101\u001b[0m \u001b[32m━━━━━━━━━━━━━━━━━━━━\u001b[0m\u001b[37m\u001b[0m \u001b[1m82s\u001b[0m 816ms/step - loss: 3.9769e-04 - val_loss: 0.2476\n",
      "Epoch 93/100\n",
      "\u001b[1m101/101\u001b[0m \u001b[32m━━━━━━━━━━━━━━━━━━━━\u001b[0m\u001b[37m\u001b[0m \u001b[1m82s\u001b[0m 816ms/step - loss: 3.7083e-04 - val_loss: 0.2471\n",
      "Epoch 94/100\n",
      "\u001b[1m101/101\u001b[0m \u001b[32m━━━━━━━━━━━━━━━━━━━━\u001b[0m\u001b[37m\u001b[0m \u001b[1m83s\u001b[0m 819ms/step - loss: 3.5559e-04 - val_loss: 0.2468\n",
      "Epoch 95/100\n",
      "\u001b[1m101/101\u001b[0m \u001b[32m━━━━━━━━━━━━━━━━━━━━\u001b[0m\u001b[37m\u001b[0m \u001b[1m82s\u001b[0m 816ms/step - loss: 3.3418e-04 - val_loss: 0.2464\n",
      "Epoch 96/100\n",
      "\u001b[1m101/101\u001b[0m \u001b[32m━━━━━━━━━━━━━━━━━━━━\u001b[0m\u001b[37m\u001b[0m \u001b[1m82s\u001b[0m 815ms/step - loss: 3.1986e-04 - val_loss: 0.2460\n",
      "Epoch 97/100\n",
      "\u001b[1m101/101\u001b[0m \u001b[32m━━━━━━━━━━━━━━━━━━━━\u001b[0m\u001b[37m\u001b[0m \u001b[1m82s\u001b[0m 818ms/step - loss: 3.1082e-04 - val_loss: 0.2457\n",
      "Epoch 98/100\n",
      "\u001b[1m101/101\u001b[0m \u001b[32m━━━━━━━━━━━━━━━━━━━━\u001b[0m\u001b[37m\u001b[0m \u001b[1m82s\u001b[0m 814ms/step - loss: 2.8958e-04 - val_loss: 0.2454\n",
      "Epoch 99/100\n",
      "\u001b[1m101/101\u001b[0m \u001b[32m━━━━━━━━━━━━━━━━━━━━\u001b[0m\u001b[37m\u001b[0m \u001b[1m82s\u001b[0m 816ms/step - loss: 2.7687e-04 - val_loss: 0.2449\n",
      "Epoch 100/100\n",
      "\u001b[1m101/101\u001b[0m \u001b[32m━━━━━━━━━━━━━━━━━━━━\u001b[0m\u001b[37m\u001b[0m \u001b[1m82s\u001b[0m 816ms/step - loss: 2.7012e-04 - val_loss: 0.2446\n"
     ]
    }
   ],
   "source": [
    "history = model.fit([X_train, y_train], decoder_target_data_train, \n",
    "          validation_data=([X_val, y_val], decoder_target_data_val), \n",
    "          epochs=100, batch_size=32, callbacks=[early_stopping])"
   ]
  },
  {
   "cell_type": "code",
   "execution_count": 23,
   "metadata": {
    "execution": {
     "iopub.execute_input": "2024-11-01T12:22:50.168464Z",
     "iopub.status.busy": "2024-11-01T12:22:50.167862Z",
     "iopub.status.idle": "2024-11-01T12:22:50.462789Z",
     "shell.execute_reply": "2024-11-01T12:22:50.461849Z",
     "shell.execute_reply.started": "2024-11-01T12:22:50.168415Z"
    }
   },
   "outputs": [
    {
     "data": {
      "image/png": "[encoded data removed]",
      "text/plain": [
       "<Figure size 800x500 with 1 Axes>"
      ]
     },
     "metadata": {},
     "output_type": "display_data"
    }
   ],
   "source": [
    "import matplotlib.pyplot as plt \n",
    "pd.DataFrame(history.history).plot(figsize=(8, 5))\n",
    "plt.grid(True)\n",
    "plt.show()"
   ]
  },
  {
   "cell_type": "code",
   "execution_count": 25,
   "metadata": {
    "execution": {
     "iopub.execute_input": "2024-11-01T12:23:17.449980Z",
     "iopub.status.busy": "2024-11-01T12:23:17.449285Z",
     "iopub.status.idle": "2024-11-01T12:23:17.550920Z",
     "shell.execute_reply": "2024-11-01T12:23:17.549836Z",
     "shell.execute_reply.started": "2024-11-01T12:23:17.449939Z"
    }
   },
   "outputs": [],
   "source": [
    "#Split the dataset into train, validation and test\n",
    "X_train, X_temp, y_train, y_temp = train_test_split(article_padded, abstract_padded, test_size=0.2, random_state=42)\n",
    "X_val, X_test, y_val, y_test = train_test_split(X_temp, y_temp, test_size=0.1, random_state=42)"
   ]
  },
  {
   "cell_type": "code",
   "execution_count": 26,
   "metadata": {
    "execution": {
     "iopub.execute_input": "2024-11-01T12:23:25.480641Z",
     "iopub.status.busy": "2024-11-01T12:23:25.480251Z",
     "iopub.status.idle": "2024-11-01T12:23:30.952595Z",
     "shell.execute_reply": "2024-11-01T12:23:30.951594Z",
     "shell.execute_reply.started": "2024-11-01T12:23:25.480604Z"
    }
   },
   "outputs": [
    {
     "name": "stdout",
     "output_type": "stream",
     "text": [
      "\u001b[1m5/5\u001b[0m \u001b[32m━━━━━━━━━━━━━━━━━━━━\u001b[0m\u001b[37m\u001b[0m \u001b[1m2s\u001b[0m 250ms/step\n"
     ]
    }
   ],
   "source": [
    "#Predict on test set\n",
    "predictions = model.predict([X_test, y_test])"
   ]
  },
  {
   "cell_type": "code",
   "execution_count": 29,
   "metadata": {
    "execution": {
     "iopub.execute_input": "2024-11-01T12:24:00.928907Z",
     "iopub.status.busy": "2024-11-01T12:24:00.927949Z",
     "iopub.status.idle": "2024-11-01T12:24:00.934906Z",
     "shell.execute_reply": "2024-11-01T12:24:00.933928Z",
     "shell.execute_reply.started": "2024-11-01T12:24:00.928851Z"
    }
   },
   "outputs": [],
   "source": [
    "def decode_sequence(sequence, tokenizer):\n",
    "    reverse_word_map = dict(map(reversed, tokenizer.word_index.items()))\n",
    "    decoded_text = ' '.join([reverse_word_map.get(i, '') for i in sequence])\n",
    "    return decoded_text.strip()"
   ]
  },
  {
   "cell_type": "code",
   "execution_count": 30,
   "metadata": {
    "execution": {
     "iopub.execute_input": "2024-11-01T12:24:14.113270Z",
     "iopub.status.busy": "2024-11-01T12:24:14.112623Z",
     "iopub.status.idle": "2024-11-01T12:24:14.117554Z",
     "shell.execute_reply": "2024-11-01T12:24:14.116618Z",
     "shell.execute_reply.started": "2024-11-01T12:24:14.113228Z"
    }
   },
   "outputs": [],
   "source": [
    "bleu_scores = []\n",
    "rouge = Rouge()\n",
    "rouge_scores = []"
   ]
  },
  {
   "cell_type": "code",
   "execution_count": 31,
   "metadata": {
    "execution": {
     "iopub.execute_input": "2024-11-01T12:24:22.693006Z",
     "iopub.status.busy": "2024-11-01T12:24:22.692185Z",
     "iopub.status.idle": "2024-11-01T12:24:28.478256Z",
     "shell.execute_reply": "2024-11-01T12:24:28.477134Z",
     "shell.execute_reply.started": "2024-11-01T12:24:22.692965Z"
    }
   },
   "outputs": [],
   "source": [
    "for i in range(len(X_test)):\n",
    "    # Get the true abstract and predicted abstract\n",
    "    true_abstract = decode_sequence(y_test[i], abstract_tokenizer)\n",
    "    predicted_abstract = decode_sequence(np.argmax(predictions[i], axis=-1), abstract_tokenizer)\n",
    "    \n",
    "    # Calculate BLEU score\n",
    "    reference = [true_abstract.split()]\n",
    "    candidate = predicted_abstract.split()\n",
    "    bleu_score = sentence_bleu(reference, candidate)\n",
    "    bleu_scores.append(bleu_score)\n",
    "    \n",
    "    # Calculate ROUGE score\n",
    "    rouge_score = rouge.get_scores(predicted_abstract, true_abstract)\n",
    "    rouge_scores.append(rouge_score)"
   ]
  },
  {
   "cell_type": "code",
   "execution_count": 32,
   "metadata": {
    "execution": {
     "iopub.execute_input": "2024-11-01T12:24:41.411263Z",
     "iopub.status.busy": "2024-11-01T12:24:41.410876Z",
     "iopub.status.idle": "2024-11-01T12:24:41.430391Z",
     "shell.execute_reply": "2024-11-01T12:24:41.429487Z",
     "shell.execute_reply.started": "2024-11-01T12:24:41.411226Z"
    }
   },
   "outputs": [
    {
     "name": "stdout",
     "output_type": "stream",
     "text": [
      "we present calculations of structural and magnetic properties of the iron  superconductor  including electron electron correlations for this purpose we apply a fully charge self consistent combination of density functional theory with the dynamical mean field theory allowing for the calculation of total energies we find that the inclusion of correlation effects gives a good agreement of the  xmath0 position with experimental data even in the paramagnetic high temperature phase going to low temperatures we study the formation of the ordered moment in the  spin density wave phase yielding an ordered moment of about xmath1 xmath2 again in good agreement with experiments this shows that the inclusion of correlation effects improves both structural and magnetic properties of  at the same time\n"
     ]
    }
   ],
   "source": [
    "#View random predicted abstract\n",
    "print(decode_sequence(np.argmax(predictions[126], axis=-1), abstract_tokenizer))"
   ]
  },
  {
   "cell_type": "code",
   "execution_count": 33,
   "metadata": {
    "execution": {
     "iopub.execute_input": "2024-11-01T12:24:52.003549Z",
     "iopub.status.busy": "2024-11-01T12:24:52.002712Z",
     "iopub.status.idle": "2024-11-01T12:24:52.019389Z",
     "shell.execute_reply": "2024-11-01T12:24:52.018134Z",
     "shell.execute_reply.started": "2024-11-01T12:24:52.003507Z"
    }
   },
   "outputs": [
    {
     "name": "stdout",
     "output_type": "stream",
     "text": [
      "we present calculations of structural and magnetic properties of the iron pnictide superconductor lafeaso including electron electron correlations for this purpose we apply a fully charge self consistent combination of density functional theory with the dynamical mean field theory allowing for the calculation of total energies we find that the inclusion of correlation effects gives a good agreement of the arsenic xmath0 position with experimental data even in the paramagnetic high temperature phase going to low temperatures we study the formation of the ordered moment in the striped spin density wave phase yielding an ordered moment of about xmath1 xmath2 again in good agreement with experiments this shows that the inclusion of correlation effects improves both structural and magnetic properties of lafeaso at the same time\n"
     ]
    }
   ],
   "source": [
    "#View actual abstract\n",
    "print(decode_sequence(y_test[126], abstract_tokenizer))"
   ]
  },
  {
   "cell_type": "code",
   "execution_count": 34,
   "metadata": {
    "execution": {
     "iopub.execute_input": "2024-11-01T12:25:01.778379Z",
     "iopub.status.busy": "2024-11-01T12:25:01.777699Z",
     "iopub.status.idle": "2024-11-01T12:25:01.783288Z",
     "shell.execute_reply": "2024-11-01T12:25:01.782212Z",
     "shell.execute_reply.started": "2024-11-01T12:25:01.778335Z"
    }
   },
   "outputs": [
    {
     "name": "stdout",
     "output_type": "stream",
     "text": [
      "Average BLEU Score: 0.9291410421793171\n"
     ]
    }
   ],
   "source": [
    "#Calculate average bleu score\n",
    "average_bleu = np.mean(bleu_scores)\n",
    "print(f\"Average BLEU Score: {average_bleu}\")"
   ]
  },
  {
   "cell_type": "code",
   "execution_count": 35,
   "metadata": {
    "execution": {
     "iopub.execute_input": "2024-11-01T12:25:11.249423Z",
     "iopub.status.busy": "2024-11-01T12:25:11.249027Z",
     "iopub.status.idle": "2024-11-01T12:25:11.256286Z",
     "shell.execute_reply": "2024-11-01T12:25:11.255138Z",
     "shell.execute_reply.started": "2024-11-01T12:25:11.249383Z"
    }
   },
   "outputs": [
    {
     "name": "stdout",
     "output_type": "stream",
     "text": [
      "Average ROUGE Scores: {'rouge-1': 0.9794156561313324, 'rouge-2': 0.9556702442908018, 'rouge-l': 0.9794156561313324}\n"
     ]
    }
   ],
   "source": [
    "#Calculate average rouge score\n",
    "average_rouge = {\n",
    "    'rouge-1': np.mean([score[0]['rouge-1']['f'] for score in rouge_scores]),\n",
    "    'rouge-2': np.mean([score[0]['rouge-2']['f'] for score in rouge_scores]),\n",
    "    'rouge-l': np.mean([score[0]['rouge-l']['f'] for score in rouge_scores])\n",
    "}\n",
    "print(f\"Average ROUGE Scores: {average_rouge}\")"
   ]
  },
  {
   "cell_type": "markdown",
   "metadata": {
    "execution": {
     "iopub.execute_input": "2024-11-01T12:36:52.119452Z",
     "iopub.status.busy": "2024-11-01T12:36:52.119067Z",
     "iopub.status.idle": "2024-11-01T12:36:52.123484Z",
     "shell.execute_reply": "2024-11-01T12:36:52.122504Z",
     "shell.execute_reply.started": "2024-11-01T12:36:52.119417Z"
    }
   },
   "source": [
    "## Visualizing performance of all 5 models. "
   ]
  },
  {
   "cell_type": "code",
   "execution_count": 48,
   "metadata": {
    "execution": {
     "iopub.execute_input": "2024-11-01T12:44:01.174352Z",
     "iopub.status.busy": "2024-11-01T12:44:01.173963Z",
     "iopub.status.idle": "2024-11-01T12:44:01.190927Z",
     "shell.execute_reply": "2024-11-01T12:44:01.189889Z",
     "shell.execute_reply.started": "2024-11-01T12:44:01.174313Z"
    }
   },
   "outputs": [
    {
     "data": {
      "text/html": [
       "<div>\n",
       "<style scoped>\n",
       "    .dataframe tbody tr th:only-of-type {\n",
       "        vertical-align: middle;\n",
       "    }\n",
       "\n",
       "    .dataframe tbody tr th {\n",
       "        vertical-align: top;\n",
       "    }\n",
       "\n",
       "    .dataframe thead th {\n",
       "        text-align: right;\n",
       "    }\n",
       "</style>\n",
       "<table border=\"1\" class=\"dataframe\">\n",
       "  <thead>\n",
       "    <tr style=\"text-align: right;\">\n",
       "      <th></th>\n",
       "      <th>Final BLEU Score</th>\n",
       "      <th>Final ROUGE-1</th>\n",
       "      <th>Final ROUGE-2</th>\n",
       "      <th>Final ROUGE-L</th>\n",
       "    </tr>\n",
       "    <tr>\n",
       "      <th>Model</th>\n",
       "      <th></th>\n",
       "      <th></th>\n",
       "      <th></th>\n",
       "      <th></th>\n",
       "    </tr>\n",
       "  </thead>\n",
       "  <tbody>\n",
       "    <tr>\n",
       "      <th>Fine Tuned BART</th>\n",
       "      <td>0.055871</td>\n",
       "      <td>0.336750</td>\n",
       "      <td>0.113000</td>\n",
       "      <td>0.294289</td>\n",
       "    </tr>\n",
       "    <tr>\n",
       "      <th>Fine Tuned distilBART</th>\n",
       "      <td>0.031865</td>\n",
       "      <td>0.305717</td>\n",
       "      <td>0.094207</td>\n",
       "      <td>0.268880</td>\n",
       "    </tr>\n",
       "    <tr>\n",
       "      <th>Pegasus</th>\n",
       "      <td>0.042347</td>\n",
       "      <td>0.307075</td>\n",
       "      <td>0.092487</td>\n",
       "      <td>0.259921</td>\n",
       "    </tr>\n",
       "    <tr>\n",
       "      <th>BART</th>\n",
       "      <td>0.052583</td>\n",
       "      <td>0.289987</td>\n",
       "      <td>0.090948</td>\n",
       "      <td>0.259226</td>\n",
       "    </tr>\n",
       "    <tr>\n",
       "      <th>LSTM Model</th>\n",
       "      <td>0.929141</td>\n",
       "      <td>0.979415</td>\n",
       "      <td>0.955670</td>\n",
       "      <td>0.979415</td>\n",
       "    </tr>\n",
       "  </tbody>\n",
       "</table>\n",
       "</div>"
      ],
      "text/plain": [
       "                       Final BLEU Score  Final ROUGE-1  Final ROUGE-2  \\\n",
       "Model                                                                   \n",
       "Fine Tuned BART                0.055871       0.336750       0.113000   \n",
       "Fine Tuned distilBART          0.031865       0.305717       0.094207   \n",
       "Pegasus                        0.042347       0.307075       0.092487   \n",
       "BART                           0.052583       0.289987       0.090948   \n",
       "LSTM Model                     0.929141       0.979415       0.955670   \n",
       "\n",
       "                       Final ROUGE-L  \n",
       "Model                                 \n",
       "Fine Tuned BART             0.294289  \n",
       "Fine Tuned distilBART       0.268880  \n",
       "Pegasus                     0.259921  \n",
       "BART                        0.259226  \n",
       "LSTM Model                  0.979415  "
      ]
     },
     "execution_count": 48,
     "metadata": {},
     "output_type": "execute_result"
    }
   ],
   "source": [
    "import pandas as pd\n",
    "import matplotlib.pyplot as plt\n",
    "\n",
    "data = [\n",
    "    ['Fine Tuned BART', 0.055871, 0.336750, 0.113000, 0.294289],\n",
    "    ['Fine Tuned distilBART', 0.031865, 0.305717, 0.094207, 0.268880],\n",
    "    ['Pegasus', 0.042347, 0.307075, 0.092487, 0.259921],\n",
    "    ['BART', 0.052583, 0.289987, 0.090948, 0.259226],\n",
    "    ['LSTM Model', 0.929141, 0.979415, 0.955670, 0.979415]\n",
    "]\n",
    "\n",
    "columns = ['Model', 'Final BLEU Score', 'Final ROUGE-1', 'Final ROUGE-2', 'Final ROUGE-L']\n",
    "df = pd.DataFrame(data, columns=columns).set_index('Model')\n",
    "df"
   ]
  },
  {
   "cell_type": "code",
   "execution_count": 49,
   "metadata": {
    "execution": {
     "iopub.execute_input": "2024-11-01T12:44:10.739985Z",
     "iopub.status.busy": "2024-11-01T12:44:10.739163Z",
     "iopub.status.idle": "2024-11-01T12:44:11.052526Z",
     "shell.execute_reply": "2024-11-01T12:44:11.051608Z",
     "shell.execute_reply.started": "2024-11-01T12:44:10.739942Z"
    }
   },
   "outputs": [
    {
     "data": {
      "image/png": "[encoded data removed]",
      "text/plain": [
       "<Figure size 1200x600 with 1 Axes>"
      ]
     },
     "metadata": {},
     "output_type": "display_data"
    }
   ],
   "source": [
    "\n",
    "# Plot the ROUGE scores\n",
    "fig, ax = plt.subplots(figsize=(12, 6))\n",
    "df[['Final ROUGE-1', 'Final ROUGE-2', 'Final ROUGE-L']].plot(kind='bar', ax=ax)\n",
    "ax.set_title('ROUGE Scores for Different Models')\n",
    "ax.set_xlabel('Model')\n",
    "ax.set_ylabel('Score')\n",
    "plt.xticks(rotation=0)\n",
    "ax.grid(True)\n",
    "plt.show()"
   ]
  }
 ],
 "metadata": {
  "kaggle": {
   "accelerator": "nvidiaTeslaT4",
   "dataSources": [
    {
     "datasetId": 5911665,
     "sourceId": 9673358,
     "sourceType": "datasetVersion"
    }
   ],
   "dockerImageVersionId": 30787,
   "isGpuEnabled": true,
   "isInternetEnabled": true,
   "language": "python",
   "sourceType": "notebook"
  },
  "kernelspec": {
   "display_name": "Python 3 (ipykernel)",
   "language": "python",
   "name": "python3"
  },
  "language_info": {
   "codemirror_mode": {
    "name": "ipython",
    "version": 3
   },
   "file_extension": ".py",
   "mimetype": "text/x-python",
   "name": "python",
   "nbconvert_exporter": "python",
   "pygments_lexer": "ipython3",
   "version": "3.12.4"
  }
 },
 "nbformat": 4,
 "nbformat_minor": 4
}
